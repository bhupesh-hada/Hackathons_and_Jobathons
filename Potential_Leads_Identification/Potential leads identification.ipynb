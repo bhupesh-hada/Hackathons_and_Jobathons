{
 "cells": [
  {
   "cell_type": "code",
   "execution_count": 1,
   "metadata": {},
   "outputs": [],
   "source": [
    "import pandas as pd\n",
    "import numpy as np\n",
    "\n",
    "import matplotlib.pyplot as plt\n",
    "import seaborn as sns\n",
    "\n",
    "from sklearn.model_selection import train_test_split, cross_val_score, GridSearchCV\n",
    "from sklearn.metrics import accuracy_score,confusion_matrix, roc_auc_score,f1_score, precision_score,recall_score"
   ]
  },
  {
   "cell_type": "code",
   "execution_count": 2,
   "metadata": {},
   "outputs": [
    {
     "data": {
      "text/plain": [
       "(array([19.,  0.,  1.]),\n",
       " array([ 2.,  9., 16., 23.]),\n",
       " <a list of 3 Patch objects>)"
      ]
     },
     "execution_count": 2,
     "metadata": {},
     "output_type": "execute_result"
    },
    {
     "data": {
      "image/png": "[encoded data removed]",
      "text/plain": [
       "<Figure size 432x288 with 1 Axes>"
      ]
     },
     "metadata": {
      "needs_background": "light"
     },
     "output_type": "display_data"
    }
   ],
   "source": [
    "a=[2,3,2,3,4,2,3,4,23,5,6,7,4,3,5,6,7,8,2,4]\n",
    "\n",
    "plt.hist(a,bins =3)"
   ]
  },
  {
   "cell_type": "code",
   "execution_count": 402,
   "metadata": {},
   "outputs": [
    {
     "data": {
      "text/html": [
       "<div>\n",
       "<style scoped>\n",
       "    .dataframe tbody tr th:only-of-type {\n",
       "        vertical-align: middle;\n",
       "    }\n",
       "\n",
       "    .dataframe tbody tr th {\n",
       "        vertical-align: top;\n",
       "    }\n",
       "\n",
       "    .dataframe thead th {\n",
       "        text-align: right;\n",
       "    }\n",
       "</style>\n",
       "<table border=\"1\" class=\"dataframe\">\n",
       "  <thead>\n",
       "    <tr style=\"text-align: right;\">\n",
       "      <th></th>\n",
       "      <th>id</th>\n",
       "      <th>created_at</th>\n",
       "      <th>campaign_var_1</th>\n",
       "      <th>campaign_var_2</th>\n",
       "      <th>products_purchased</th>\n",
       "      <th>signup_date</th>\n",
       "      <th>user_activity_var_1</th>\n",
       "      <th>user_activity_var_2</th>\n",
       "      <th>user_activity_var_3</th>\n",
       "      <th>user_activity_var_4</th>\n",
       "      <th>user_activity_var_5</th>\n",
       "      <th>user_activity_var_6</th>\n",
       "      <th>user_activity_var_7</th>\n",
       "      <th>user_activity_var_8</th>\n",
       "      <th>user_activity_var_9</th>\n",
       "      <th>user_activity_var_10</th>\n",
       "      <th>user_activity_var_11</th>\n",
       "      <th>user_activity_var_12</th>\n",
       "      <th>buy</th>\n",
       "    </tr>\n",
       "  </thead>\n",
       "  <tbody>\n",
       "    <tr>\n",
       "      <th>0</th>\n",
       "      <td>1</td>\n",
       "      <td>2021-01-01</td>\n",
       "      <td>1</td>\n",
       "      <td>2</td>\n",
       "      <td>2.0</td>\n",
       "      <td>2020-09-24</td>\n",
       "      <td>0</td>\n",
       "      <td>0</td>\n",
       "      <td>0</td>\n",
       "      <td>0</td>\n",
       "      <td>0</td>\n",
       "      <td>0</td>\n",
       "      <td>1</td>\n",
       "      <td>1</td>\n",
       "      <td>0</td>\n",
       "      <td>0</td>\n",
       "      <td>0</td>\n",
       "      <td>0</td>\n",
       "      <td>0</td>\n",
       "    </tr>\n",
       "    <tr>\n",
       "      <th>1</th>\n",
       "      <td>2</td>\n",
       "      <td>2021-01-01</td>\n",
       "      <td>2</td>\n",
       "      <td>1</td>\n",
       "      <td>2.0</td>\n",
       "      <td>2020-09-19</td>\n",
       "      <td>1</td>\n",
       "      <td>0</td>\n",
       "      <td>1</td>\n",
       "      <td>0</td>\n",
       "      <td>0</td>\n",
       "      <td>0</td>\n",
       "      <td>1</td>\n",
       "      <td>0</td>\n",
       "      <td>0</td>\n",
       "      <td>0</td>\n",
       "      <td>0</td>\n",
       "      <td>0</td>\n",
       "      <td>0</td>\n",
       "    </tr>\n",
       "    <tr>\n",
       "      <th>2</th>\n",
       "      <td>3</td>\n",
       "      <td>2021-01-01</td>\n",
       "      <td>9</td>\n",
       "      <td>3</td>\n",
       "      <td>3.0</td>\n",
       "      <td>2021-08-11</td>\n",
       "      <td>1</td>\n",
       "      <td>0</td>\n",
       "      <td>0</td>\n",
       "      <td>0</td>\n",
       "      <td>0</td>\n",
       "      <td>0</td>\n",
       "      <td>0</td>\n",
       "      <td>0</td>\n",
       "      <td>0</td>\n",
       "      <td>0</td>\n",
       "      <td>0</td>\n",
       "      <td>0</td>\n",
       "      <td>0</td>\n",
       "    </tr>\n",
       "    <tr>\n",
       "      <th>3</th>\n",
       "      <td>4</td>\n",
       "      <td>2021-01-01</td>\n",
       "      <td>6</td>\n",
       "      <td>7</td>\n",
       "      <td>2.0</td>\n",
       "      <td>2017-10-04</td>\n",
       "      <td>0</td>\n",
       "      <td>0</td>\n",
       "      <td>0</td>\n",
       "      <td>0</td>\n",
       "      <td>0</td>\n",
       "      <td>0</td>\n",
       "      <td>0</td>\n",
       "      <td>0</td>\n",
       "      <td>0</td>\n",
       "      <td>0</td>\n",
       "      <td>0</td>\n",
       "      <td>0</td>\n",
       "      <td>0</td>\n",
       "    </tr>\n",
       "    <tr>\n",
       "      <th>4</th>\n",
       "      <td>5</td>\n",
       "      <td>2021-01-01</td>\n",
       "      <td>4</td>\n",
       "      <td>6</td>\n",
       "      <td>NaN</td>\n",
       "      <td>2020-06-08</td>\n",
       "      <td>0</td>\n",
       "      <td>0</td>\n",
       "      <td>0</td>\n",
       "      <td>0</td>\n",
       "      <td>0</td>\n",
       "      <td>0</td>\n",
       "      <td>1</td>\n",
       "      <td>0</td>\n",
       "      <td>0</td>\n",
       "      <td>0</td>\n",
       "      <td>1</td>\n",
       "      <td>0</td>\n",
       "      <td>0</td>\n",
       "    </tr>\n",
       "  </tbody>\n",
       "</table>\n",
       "</div>"
      ],
      "text/plain": [
       "   id  created_at  campaign_var_1  campaign_var_2  products_purchased  \\\n",
       "0   1  2021-01-01               1               2                 2.0   \n",
       "1   2  2021-01-01               2               1                 2.0   \n",
       "2   3  2021-01-01               9               3                 3.0   \n",
       "3   4  2021-01-01               6               7                 2.0   \n",
       "4   5  2021-01-01               4               6                 NaN   \n",
       "\n",
       "  signup_date  user_activity_var_1  user_activity_var_2  user_activity_var_3  \\\n",
       "0  2020-09-24                    0                    0                    0   \n",
       "1  2020-09-19                    1                    0                    1   \n",
       "2  2021-08-11                    1                    0                    0   \n",
       "3  2017-10-04                    0                    0                    0   \n",
       "4  2020-06-08                    0                    0                    0   \n",
       "\n",
       "   user_activity_var_4  user_activity_var_5  user_activity_var_6  \\\n",
       "0                    0                    0                    0   \n",
       "1                    0                    0                    0   \n",
       "2                    0                    0                    0   \n",
       "3                    0                    0                    0   \n",
       "4                    0                    0                    0   \n",
       "\n",
       "   user_activity_var_7  user_activity_var_8  user_activity_var_9  \\\n",
       "0                    1                    1                    0   \n",
       "1                    1                    0                    0   \n",
       "2                    0                    0                    0   \n",
       "3                    0                    0                    0   \n",
       "4                    1                    0                    0   \n",
       "\n",
       "   user_activity_var_10  user_activity_var_11  user_activity_var_12  buy  \n",
       "0                     0                     0                     0    0  \n",
       "1                     0                     0                     0    0  \n",
       "2                     0                     0                     0    0  \n",
       "3                     0                     0                     0    0  \n",
       "4                     0                     1                     0    0  "
      ]
     },
     "execution_count": 402,
     "metadata": {},
     "output_type": "execute_result"
    }
   ],
   "source": [
    "# reading the train dataframe\n",
    "df=pd.read_csv('train_wn75k28.csv')\n",
    "df.head()"
   ]
  },
  {
   "cell_type": "code",
   "execution_count": 403,
   "metadata": {},
   "outputs": [
    {
     "name": "stdout",
     "output_type": "stream",
     "text": [
      "(39161, 19)\n"
     ]
    },
    {
     "data": {
      "text/plain": [
       "39161"
      ]
     },
     "execution_count": 403,
     "metadata": {},
     "output_type": "execute_result"
    }
   ],
   "source": [
    "print(df.shape)\n",
    "\n",
    "df.id.nunique()"
   ]
  },
  {
   "cell_type": "code",
   "execution_count": 404,
   "metadata": {},
   "outputs": [
    {
     "data": {
      "text/plain": [
       "id                          0\n",
       "created_at                  0\n",
       "campaign_var_1              0\n",
       "campaign_var_2              0\n",
       "products_purchased      20911\n",
       "signup_date             15113\n",
       "user_activity_var_1         0\n",
       "user_activity_var_2         0\n",
       "user_activity_var_3         0\n",
       "user_activity_var_4         0\n",
       "user_activity_var_5         0\n",
       "user_activity_var_6         0\n",
       "user_activity_var_7         0\n",
       "user_activity_var_8         0\n",
       "user_activity_var_9         0\n",
       "user_activity_var_10        0\n",
       "user_activity_var_11        0\n",
       "user_activity_var_12        0\n",
       "buy                         0\n",
       "dtype: int64"
      ]
     },
     "execution_count": 404,
     "metadata": {},
     "output_type": "execute_result"
    }
   ],
   "source": [
    "df.isnull().sum()"
   ]
  },
  {
   "cell_type": "code",
   "execution_count": 405,
   "metadata": {},
   "outputs": [
    {
     "data": {
      "text/plain": [
       "<matplotlib.axes._subplots.AxesSubplot at 0x7fc5ac72e650>"
      ]
     },
     "execution_count": 405,
     "metadata": {},
     "output_type": "execute_result"
    },
    {
     "data": {
      "image/png": "[encoded data removed]",
      "text/plain": [
       "<Figure size 432x288 with 1 Axes>"
      ]
     },
     "metadata": {
      "needs_background": "light"
     },
     "output_type": "display_data"
    }
   ],
   "source": [
    "sns.countplot(data=df,x='user_activity_var_1',hue='buy')"
   ]
  },
  {
   "cell_type": "code",
   "execution_count": 406,
   "metadata": {},
   "outputs": [
    {
     "data": {
      "text/plain": [
       "<matplotlib.axes._subplots.AxesSubplot at 0x7fc5adaac210>"
      ]
     },
     "execution_count": 406,
     "metadata": {},
     "output_type": "execute_result"
    },
    {
     "data": {
      "image/png": "[encoded data removed]",
      "text/plain": [
       "<Figure size 432x288 with 1 Axes>"
      ]
     },
     "metadata": {
      "needs_background": "light"
     },
     "output_type": "display_data"
    }
   ],
   "source": [
    "sns.countplot(data=df,x='buy')"
   ]
  },
  {
   "cell_type": "code",
   "execution_count": 407,
   "metadata": {},
   "outputs": [
    {
     "name": "stdout",
     "output_type": "stream",
     "text": [
      "% of samples with y=1: 0.05102014759582237\n",
      "% of samples with y=0: 0.9489798524041776\n"
     ]
    }
   ],
   "source": [
    "print(f\"% of samples with y=1: {df[df['buy']==1].shape[0]/df.shape[0]}\")\n",
    "      \n",
    "print(f\"% of samples with y=0: {df[df['buy']==0].shape[0]/df.shape[0]}\")"
   ]
  },
  {
   "cell_type": "markdown",
   "metadata": {},
   "source": [
    "## Data is imbalance"
   ]
  },
  {
   "cell_type": "code",
   "execution_count": 408,
   "metadata": {},
   "outputs": [],
   "source": [
    "# EDA and data checks"
   ]
  },
  {
   "cell_type": "code",
   "execution_count": 409,
   "metadata": {},
   "outputs": [
    {
     "data": {
      "text/plain": [
       "2.0    8867\n",
       "3.0    5024\n",
       "1.0    3643\n",
       "4.0     716\n",
       "Name: products_purchased, dtype: int64"
      ]
     },
     "execution_count": 409,
     "metadata": {},
     "output_type": "execute_result"
    }
   ],
   "source": [
    "df.products_purchased.value_counts()"
   ]
  },
  {
   "cell_type": "code",
   "execution_count": 410,
   "metadata": {},
   "outputs": [
    {
     "data": {
      "text/plain": [
       "2.0    383\n",
       "3.0    254\n",
       "1.0    242\n",
       "4.0     74\n",
       "Name: products_purchased, dtype: int64"
      ]
     },
     "execution_count": 410,
     "metadata": {},
     "output_type": "execute_result"
    }
   ],
   "source": [
    "df[df.buy==1]['products_purchased'].value_counts()"
   ]
  },
  {
   "cell_type": "code",
   "execution_count": 411,
   "metadata": {},
   "outputs": [
    {
     "data": {
      "text/plain": [
       "2.0    8484\n",
       "3.0    4770\n",
       "1.0    3401\n",
       "4.0     642\n",
       "Name: products_purchased, dtype: int64"
      ]
     },
     "execution_count": 411,
     "metadata": {},
     "output_type": "execute_result"
    }
   ],
   "source": [
    "df[df.buy==0]['products_purchased'].value_counts()"
   ]
  },
  {
   "cell_type": "code",
   "execution_count": 412,
   "metadata": {},
   "outputs": [
    {
     "data": {
      "text/plain": [
       "(19866, 1045)"
      ]
     },
     "execution_count": 412,
     "metadata": {},
     "output_type": "execute_result"
    }
   ],
   "source": [
    "df[df.buy==0]['products_purchased'].isnull().sum(), df[df.buy==1]['products_purchased'].isnull().sum()"
   ]
  },
  {
   "cell_type": "code",
   "execution_count": 413,
   "metadata": {},
   "outputs": [
    {
     "data": {
      "text/plain": [
       "<matplotlib.axes._subplots.AxesSubplot at 0x7fc5afb4a050>"
      ]
     },
     "execution_count": 413,
     "metadata": {},
     "output_type": "execute_result"
    },
    {
     "data": {
      "image/png": "[encoded data removed]",
      "text/plain": [
       "<Figure size 864x648 with 1 Axes>"
      ]
     },
     "metadata": {
      "needs_background": "light"
     },
     "output_type": "display_data"
    }
   ],
   "source": [
    "plt.subplots(figsize=(12,9))\n",
    "sns.countplot(data=df,x='buy',hue='products_purchased')"
   ]
  },
  {
   "cell_type": "code",
   "execution_count": 414,
   "metadata": {},
   "outputs": [],
   "source": [
    "# There is no clear distinction to what should be the number of products_purchased to for a lead to buy product in the next 3 months\n",
    "# the product_purchased column doesn't much impact on the identification of potential lead\n",
    "\n",
    "#Therefore filling the null values with 0\n",
    "df['products_purchased']=df.products_purchased.fillna(0.0)"
   ]
  },
  {
   "cell_type": "code",
   "execution_count": 415,
   "metadata": {},
   "outputs": [
    {
     "data": {
      "text/plain": [
       "(15088, 25)"
      ]
     },
     "execution_count": 415,
     "metadata": {},
     "output_type": "execute_result"
    }
   ],
   "source": [
    "# analysing signup_date column\n",
    "df[df.buy==0]['signup_date'].isnull().sum(), df[df.buy==1]['signup_date'].isnull().sum()"
   ]
  },
  {
   "cell_type": "code",
   "execution_count": 416,
   "metadata": {},
   "outputs": [
    {
     "data": {
      "text/plain": [
       "array(['2020-09-24', '2020-09-19', '2021-08-11', ..., nan, nan,\n",
       "       '2019-08-11'], dtype=object)"
      ]
     },
     "execution_count": 416,
     "metadata": {},
     "output_type": "execute_result"
    }
   ],
   "source": [
    "df['signup_date'].values"
   ]
  },
  {
   "cell_type": "code",
   "execution_count": 417,
   "metadata": {},
   "outputs": [],
   "source": [
    "#creating a new column 'has_signup' which is 1 if signup_date is not null and 0 if signup date is null\n",
    "df['has_signup']=1\n",
    "df.loc[df['signup_date'].isnull(),'has_signup']=0"
   ]
  },
  {
   "cell_type": "code",
   "execution_count": 418,
   "metadata": {},
   "outputs": [
    {
     "data": {
      "text/plain": [
       "1    24048\n",
       "0    15113\n",
       "Name: has_signup, dtype: int64"
      ]
     },
     "execution_count": 418,
     "metadata": {},
     "output_type": "execute_result"
    }
   ],
   "source": [
    "df['has_signup'].value_counts()"
   ]
  },
  {
   "cell_type": "code",
   "execution_count": null,
   "metadata": {},
   "outputs": [],
   "source": []
  },
  {
   "cell_type": "code",
   "execution_count": null,
   "metadata": {},
   "outputs": [],
   "source": []
  },
  {
   "cell_type": "code",
   "execution_count": 419,
   "metadata": {},
   "outputs": [],
   "source": [
    "# converting date columns into datetime\n",
    "df['created_at']=pd.to_datetime(df['created_at'])\n",
    "\n",
    "df['signup_date'] = pd.to_datetime(df['signup_date'])"
   ]
  },
  {
   "cell_type": "code",
   "execution_count": 420,
   "metadata": {},
   "outputs": [
    {
     "data": {
      "text/plain": [
       "6     4061\n",
       "5     4060\n",
       "4     4018\n",
       "3     3784\n",
       "7     3756\n",
       "2     3486\n",
       "8     3407\n",
       "9     2866\n",
       "10    2392\n",
       "11    1873\n",
       "1     1593\n",
       "12    1455\n",
       "13    1059\n",
       "14     714\n",
       "15     456\n",
       "16     181\n",
       "Name: campaign_var_1, dtype: int64"
      ]
     },
     "execution_count": 420,
     "metadata": {},
     "output_type": "execute_result"
    }
   ],
   "source": [
    "df.campaign_var_1.value_counts()"
   ]
  },
  {
   "cell_type": "code",
   "execution_count": 421,
   "metadata": {},
   "outputs": [
    {
     "data": {
      "text/plain": [
       "count    39161.000000\n",
       "mean         6.523812\n",
       "std          3.472944\n",
       "min          1.000000\n",
       "25%          4.000000\n",
       "50%          6.000000\n",
       "75%          9.000000\n",
       "max         16.000000\n",
       "Name: campaign_var_1, dtype: float64"
      ]
     },
     "execution_count": 421,
     "metadata": {},
     "output_type": "execute_result"
    }
   ],
   "source": [
    "df.campaign_var_1.describe()"
   ]
  },
  {
   "cell_type": "code",
   "execution_count": 422,
   "metadata": {},
   "outputs": [
    {
     "data": {
      "text/plain": [
       "<matplotlib.axes._subplots.AxesSubplot at 0x7fc5afadc490>"
      ]
     },
     "execution_count": 422,
     "metadata": {},
     "output_type": "execute_result"
    },
    {
     "data": {
      "image/png": "[encoded data removed]",
      "text/plain": [
       "<Figure size 720x648 with 1 Axes>"
      ]
     },
     "metadata": {
      "needs_background": "light"
     },
     "output_type": "display_data"
    }
   ],
   "source": [
    "plt.subplots(figsize=(10,9))\n",
    "sns.countplot(data=df,x='campaign_var_1',hue='buy')"
   ]
  },
  {
   "cell_type": "code",
   "execution_count": 423,
   "metadata": {},
   "outputs": [
    {
     "data": {
      "text/plain": [
       "(Timestamp('2021-01-01 00:00:00'), Timestamp('2021-12-31 00:00:00'))"
      ]
     },
     "execution_count": 423,
     "metadata": {},
     "output_type": "execute_result"
    }
   ],
   "source": [
    "# checking if the range\n",
    "df[df['campaign_var_1']==7]['created_at'].min(),df[df['campaign_var_1']==7]['created_at'].max()\n",
    "\n",
    "df[df['campaign_var_1']==3]['created_at'].min(),df[df['campaign_var_1']==3]['created_at'].max()"
   ]
  },
  {
   "cell_type": "code",
   "execution_count": 424,
   "metadata": {},
   "outputs": [
    {
     "name": "stdout",
     "output_type": "stream",
     "text": [
      "1: 0.06089139987445072\n",
      "2: 0.07142857142857142\n",
      "3: 0.07293868921775898\n",
      "4: 0.06893977103036336\n",
      "5: 0.06576354679802955\n",
      "6: 0.05614380694410244\n",
      "7: 0.05298189563365282\n",
      "8: 0.04461402993836219\n",
      "9: 0.03593859036985345\n",
      "10: 0.025501672240802676\n",
      "11: 0.02562733582487987\n",
      "12: 0.016494845360824743\n",
      "13: 0.0113314447592068\n",
      "14: 0.0028011204481792717\n",
      "15: 0.006578947368421052\n",
      "16: 0.0\n"
     ]
    }
   ],
   "source": [
    "for i in range(16):\n",
    "    a=df[(df['campaign_var_1']==i+1) & (df['buy']==1)].shape[0]/df[df['campaign_var_1']==i+1].shape[0]\n",
    "    print(f\"{i+1}: {a}\")\n"
   ]
  },
  {
   "cell_type": "code",
   "execution_count": 425,
   "metadata": {},
   "outputs": [],
   "source": [
    "# based on the above percentage(of y=1 in each ccategory of campaign_var_1) we can club some of the categories as the distribution of these categries is quite similar\n",
    "\n",
    "# clubing category 2&3\n",
    "df['campaign_var_1']= df['campaign_var_1'].apply(lambda x : 2 if (x==2) | (x==3) else x)\n",
    "\n",
    "#clubing category 4 & 5\n",
    "df['campaign_var_1']= df['campaign_var_1'].apply(lambda x : 3 if (x==4) | (x==5) else x)\n",
    "\n",
    "#clubing category 6& 7\n",
    "df['campaign_var_1']= df['campaign_var_1'].apply(lambda x : 4 if (x==6) | (x==7) else x)\n",
    "\n",
    "#renaming category 8\n",
    "df['campaign_var_1']= df['campaign_var_1'].apply(lambda x : 5 if (x==8) else x)\n",
    "\n",
    "#renaming category 9\n",
    "df['campaign_var_1']= df['campaign_var_1'].apply(lambda x : 6 if (x==9) else x)\n",
    "\n",
    "#clubing category 10 & 11\n",
    "df['campaign_var_1']= df['campaign_var_1'].apply(lambda x : 7 if (x==10) | (x==11) else x)\n",
    "\n",
    "#clubing category 12 & 13\n",
    "df['campaign_var_1']= df['campaign_var_1'].apply(lambda x : 8 if (x==12) | (x==13) else x)\n",
    "\n",
    "#clubing category 14 & 15\n",
    "df['campaign_var_1']= df['campaign_var_1'].apply(lambda x : 9 if (x==14) | (x==15) else x)\n",
    "\n",
    "#renaming category 16\n",
    "df['campaign_var_1']= df['campaign_var_1'].apply(lambda x : 10 if (x==16) else x)\n"
   ]
  },
  {
   "cell_type": "code",
   "execution_count": 426,
   "metadata": {
    "scrolled": false
   },
   "outputs": [
    {
     "data": {
      "text/plain": [
       "<matplotlib.axes._subplots.AxesSubplot at 0x7fc5af9c91d0>"
      ]
     },
     "execution_count": 426,
     "metadata": {},
     "output_type": "execute_result"
    },
    {
     "data": {
      "image/png": "[encoded data removed]",
      "text/plain": [
       "<Figure size 720x648 with 1 Axes>"
      ]
     },
     "metadata": {
      "needs_background": "light"
     },
     "output_type": "display_data"
    }
   ],
   "source": [
    "plt.subplots(figsize=(10,9))\n",
    "sns.countplot(data=df,x='campaign_var_1',hue='buy')"
   ]
  },
  {
   "cell_type": "code",
   "execution_count": 427,
   "metadata": {
    "scrolled": true
   },
   "outputs": [
    {
     "data": {
      "text/plain": [
       "6     5744\n",
       "7     5472\n",
       "5     5250\n",
       "8     4690\n",
       "4     4213\n",
       "9     3537\n",
       "3     2883\n",
       "10    2298\n",
       "2     1788\n",
       "11    1410\n",
       "12     761\n",
       "1      589\n",
       "13     351\n",
       "14     151\n",
       "15      24\n",
       "Name: campaign_var_2, dtype: int64"
      ]
     },
     "execution_count": 427,
     "metadata": {},
     "output_type": "execute_result"
    }
   ],
   "source": [
    "df.campaign_var_2.value_counts()"
   ]
  },
  {
   "cell_type": "code",
   "execution_count": 428,
   "metadata": {},
   "outputs": [
    {
     "data": {
      "text/plain": [
       "count    39161.000000\n",
       "mean         6.452746\n",
       "std          2.614296\n",
       "min          1.000000\n",
       "25%          5.000000\n",
       "50%          6.000000\n",
       "75%          8.000000\n",
       "max         15.000000\n",
       "Name: campaign_var_2, dtype: float64"
      ]
     },
     "execution_count": 428,
     "metadata": {},
     "output_type": "execute_result"
    }
   ],
   "source": [
    "df.campaign_var_2.describe()"
   ]
  },
  {
   "cell_type": "code",
   "execution_count": 429,
   "metadata": {},
   "outputs": [
    {
     "data": {
      "text/plain": [
       "<matplotlib.axes._subplots.AxesSubplot at 0x7fc5af964190>"
      ]
     },
     "execution_count": 429,
     "metadata": {},
     "output_type": "execute_result"
    },
    {
     "data": {
      "image/png": "[encoded data removed]",
      "text/plain": [
       "<Figure size 720x648 with 1 Axes>"
      ]
     },
     "metadata": {
      "needs_background": "light"
     },
     "output_type": "display_data"
    }
   ],
   "source": [
    "plt.subplots(figsize=(10,9))\n",
    "sns.countplot(data=df,x='campaign_var_2',hue='buy')"
   ]
  },
  {
   "cell_type": "code",
   "execution_count": 430,
   "metadata": {},
   "outputs": [
    {
     "name": "stdout",
     "output_type": "stream",
     "text": [
      "1: 0.03735144312393888\n",
      "2: 0.058165548098434\n",
      "3: 0.05896635449184877\n",
      "4: 0.07785426062188465\n",
      "5: 0.07238095238095238\n",
      "6: 0.06354456824512535\n",
      "7: 0.0535453216374269\n",
      "8: 0.04029850746268657\n",
      "9: 0.02883799830364716\n",
      "10: 0.014795474325500435\n",
      "11: 0.004964539007092199\n",
      "12: 0.003942181340341655\n",
      "13: 0.002849002849002849\n",
      "14: 0.0\n",
      "15: 0.0\n"
     ]
    }
   ],
   "source": [
    "for i in range(15):\n",
    "    a=df[(df['campaign_var_2']==i+1) & (df['buy']==1)].shape[0]/df[df['campaign_var_2']==i+1].shape[0]\n",
    "    print(f\"{i+1}: {a}\")"
   ]
  },
  {
   "cell_type": "code",
   "execution_count": 431,
   "metadata": {},
   "outputs": [],
   "source": [
    "# based on the above percentage(of y=1 in each ccategory of campaign_var_2) we can club some of the categories as the distribution of these categries is quite similar\n",
    "\n",
    "# clubing category 2&3\n",
    "df['campaign_var_2']= df['campaign_var_2'].apply(lambda x : 2 if (x==2) | (x==3) else x)\n",
    "\n",
    "#clubing category 4 & 5\n",
    "df['campaign_var_2']= df['campaign_var_2'].apply(lambda x : 3 if (x==4) | (x==5) else x)\n",
    "\n",
    "#renaming category 6\n",
    "df['campaign_var_2']= df['campaign_var_2'].apply(lambda x : 4 if (x==6) else x)\n",
    "\n",
    "#renaming category 7\n",
    "df['campaign_var_2']= df['campaign_var_2'].apply(lambda x : 5 if (x==7) else x)\n",
    "\n",
    "#renaming category 8\n",
    "df['campaign_var_2']= df['campaign_var_2'].apply(lambda x : 6 if (x==8) else x)\n",
    "\n",
    "#renaming category 9\n",
    "df['campaign_var_2']= df['campaign_var_2'].apply(lambda x : 7 if (x==9) else x)\n",
    "\n",
    "#renaming category 10\n",
    "df['campaign_var_2']= df['campaign_var_2'].apply(lambda x : 8 if (x==10) else x)\n",
    "\n",
    "#clubing category 11 & 12 & 13\n",
    "df['campaign_var_2']= df['campaign_var_2'].apply(lambda x : 9 if (x==11) | (x==12) | (x==13) else x)\n",
    "\n",
    "#clubing category 14 & 15\n",
    "df['campaign_var_2']= df['campaign_var_2'].apply(lambda x : 10 if (x==14) | (x==15) else x)\n"
   ]
  },
  {
   "cell_type": "code",
   "execution_count": 432,
   "metadata": {},
   "outputs": [
    {
     "data": {
      "text/plain": [
       "<matplotlib.axes._subplots.AxesSubplot at 0x7fc5af8513d0>"
      ]
     },
     "execution_count": 432,
     "metadata": {},
     "output_type": "execute_result"
    },
    {
     "data": {
      "image/png": "[encoded data removed]",
      "text/plain": [
       "<Figure size 720x648 with 1 Axes>"
      ]
     },
     "metadata": {
      "needs_background": "light"
     },
     "output_type": "display_data"
    }
   ],
   "source": [
    "plt.subplots(figsize=(10,9))\n",
    "sns.countplot(data=df,x='campaign_var_2',hue='buy')"
   ]
  },
  {
   "cell_type": "code",
   "execution_count": 433,
   "metadata": {},
   "outputs": [
    {
     "data": {
      "text/plain": [
       "0.5460667755173767"
      ]
     },
     "execution_count": 433,
     "metadata": {},
     "output_type": "execute_result"
    }
   ],
   "source": [
    "from scipy.stats import pearsonr\n",
    "corr, _ = pearsonr(df.campaign_var_1, df.campaign_var_2)\n",
    "corr"
   ]
  },
  {
   "cell_type": "code",
   "execution_count": null,
   "metadata": {},
   "outputs": [],
   "source": []
  },
  {
   "cell_type": "code",
   "execution_count": 434,
   "metadata": {},
   "outputs": [],
   "source": [
    "# creating a date_diff column which indicates the time period between sign up and the lead drop\n",
    "df['date_diff']=df['created_at']-df['signup_date']"
   ]
  },
  {
   "cell_type": "code",
   "execution_count": 435,
   "metadata": {},
   "outputs": [
    {
     "data": {
      "text/html": [
       "<div>\n",
       "<style scoped>\n",
       "    .dataframe tbody tr th:only-of-type {\n",
       "        vertical-align: middle;\n",
       "    }\n",
       "\n",
       "    .dataframe tbody tr th {\n",
       "        vertical-align: top;\n",
       "    }\n",
       "\n",
       "    .dataframe thead th {\n",
       "        text-align: right;\n",
       "    }\n",
       "</style>\n",
       "<table border=\"1\" class=\"dataframe\">\n",
       "  <thead>\n",
       "    <tr style=\"text-align: right;\">\n",
       "      <th></th>\n",
       "      <th>id</th>\n",
       "      <th>created_at</th>\n",
       "      <th>campaign_var_1</th>\n",
       "      <th>campaign_var_2</th>\n",
       "      <th>products_purchased</th>\n",
       "      <th>signup_date</th>\n",
       "      <th>user_activity_var_1</th>\n",
       "      <th>user_activity_var_2</th>\n",
       "      <th>user_activity_var_3</th>\n",
       "      <th>user_activity_var_4</th>\n",
       "      <th>...</th>\n",
       "      <th>user_activity_var_6</th>\n",
       "      <th>user_activity_var_7</th>\n",
       "      <th>user_activity_var_8</th>\n",
       "      <th>user_activity_var_9</th>\n",
       "      <th>user_activity_var_10</th>\n",
       "      <th>user_activity_var_11</th>\n",
       "      <th>user_activity_var_12</th>\n",
       "      <th>buy</th>\n",
       "      <th>has_signup</th>\n",
       "      <th>date_diff</th>\n",
       "    </tr>\n",
       "  </thead>\n",
       "  <tbody>\n",
       "    <tr>\n",
       "      <th>110</th>\n",
       "      <td>111</td>\n",
       "      <td>2021-01-04</td>\n",
       "      <td>2</td>\n",
       "      <td>2</td>\n",
       "      <td>2.0</td>\n",
       "      <td>2022-03-25</td>\n",
       "      <td>0</td>\n",
       "      <td>0</td>\n",
       "      <td>0</td>\n",
       "      <td>0</td>\n",
       "      <td>...</td>\n",
       "      <td>0</td>\n",
       "      <td>1</td>\n",
       "      <td>0</td>\n",
       "      <td>0</td>\n",
       "      <td>0</td>\n",
       "      <td>0</td>\n",
       "      <td>0</td>\n",
       "      <td>0</td>\n",
       "      <td>1</td>\n",
       "      <td>-445 days</td>\n",
       "    </tr>\n",
       "  </tbody>\n",
       "</table>\n",
       "<p>1 rows × 21 columns</p>\n",
       "</div>"
      ],
      "text/plain": [
       "      id created_at  campaign_var_1  campaign_var_2  products_purchased  \\\n",
       "110  111 2021-01-04               2               2                 2.0   \n",
       "\n",
       "    signup_date  user_activity_var_1  user_activity_var_2  \\\n",
       "110  2022-03-25                    0                    0   \n",
       "\n",
       "     user_activity_var_3  user_activity_var_4  ...  user_activity_var_6  \\\n",
       "110                    0                    0  ...                    0   \n",
       "\n",
       "     user_activity_var_7  user_activity_var_8  user_activity_var_9  \\\n",
       "110                    1                    0                    0   \n",
       "\n",
       "     user_activity_var_10  user_activity_var_11  user_activity_var_12  buy  \\\n",
       "110                     0                     0                     0    0   \n",
       "\n",
       "     has_signup  date_diff  \n",
       "110           1  -445 days  \n",
       "\n",
       "[1 rows x 21 columns]"
      ]
     },
     "execution_count": 435,
     "metadata": {},
     "output_type": "execute_result"
    }
   ],
   "source": [
    "df[df['date_diff']==df['date_diff'].min()]"
   ]
  },
  {
   "cell_type": "code",
   "execution_count": 436,
   "metadata": {},
   "outputs": [],
   "source": [
    "df['date_diff']=df['date_diff'].astype(str)\n",
    "df['date_diff']=df['date_diff'].apply(lambda x: x.split(\" \")[0])"
   ]
  },
  {
   "cell_type": "code",
   "execution_count": 437,
   "metadata": {},
   "outputs": [
    {
     "data": {
      "text/html": [
       "<div>\n",
       "<style scoped>\n",
       "    .dataframe tbody tr th:only-of-type {\n",
       "        vertical-align: middle;\n",
       "    }\n",
       "\n",
       "    .dataframe tbody tr th {\n",
       "        vertical-align: top;\n",
       "    }\n",
       "\n",
       "    .dataframe thead th {\n",
       "        text-align: right;\n",
       "    }\n",
       "</style>\n",
       "<table border=\"1\" class=\"dataframe\">\n",
       "  <thead>\n",
       "    <tr style=\"text-align: right;\">\n",
       "      <th></th>\n",
       "      <th>id</th>\n",
       "      <th>created_at</th>\n",
       "      <th>campaign_var_1</th>\n",
       "      <th>campaign_var_2</th>\n",
       "      <th>products_purchased</th>\n",
       "      <th>signup_date</th>\n",
       "      <th>user_activity_var_1</th>\n",
       "      <th>user_activity_var_2</th>\n",
       "      <th>user_activity_var_3</th>\n",
       "      <th>user_activity_var_4</th>\n",
       "      <th>...</th>\n",
       "      <th>user_activity_var_6</th>\n",
       "      <th>user_activity_var_7</th>\n",
       "      <th>user_activity_var_8</th>\n",
       "      <th>user_activity_var_9</th>\n",
       "      <th>user_activity_var_10</th>\n",
       "      <th>user_activity_var_11</th>\n",
       "      <th>user_activity_var_12</th>\n",
       "      <th>buy</th>\n",
       "      <th>has_signup</th>\n",
       "      <th>date_diff</th>\n",
       "    </tr>\n",
       "  </thead>\n",
       "  <tbody>\n",
       "    <tr>\n",
       "      <th>11</th>\n",
       "      <td>12</td>\n",
       "      <td>2021-01-01</td>\n",
       "      <td>4</td>\n",
       "      <td>3</td>\n",
       "      <td>0.0</td>\n",
       "      <td>NaT</td>\n",
       "      <td>1</td>\n",
       "      <td>0</td>\n",
       "      <td>0</td>\n",
       "      <td>0</td>\n",
       "      <td>...</td>\n",
       "      <td>1</td>\n",
       "      <td>0</td>\n",
       "      <td>1</td>\n",
       "      <td>0</td>\n",
       "      <td>0</td>\n",
       "      <td>0</td>\n",
       "      <td>0</td>\n",
       "      <td>0</td>\n",
       "      <td>0</td>\n",
       "      <td>NaT</td>\n",
       "    </tr>\n",
       "    <tr>\n",
       "      <th>21</th>\n",
       "      <td>22</td>\n",
       "      <td>2021-01-02</td>\n",
       "      <td>6</td>\n",
       "      <td>5</td>\n",
       "      <td>0.0</td>\n",
       "      <td>NaT</td>\n",
       "      <td>1</td>\n",
       "      <td>0</td>\n",
       "      <td>0</td>\n",
       "      <td>0</td>\n",
       "      <td>...</td>\n",
       "      <td>0</td>\n",
       "      <td>1</td>\n",
       "      <td>0</td>\n",
       "      <td>0</td>\n",
       "      <td>0</td>\n",
       "      <td>0</td>\n",
       "      <td>0</td>\n",
       "      <td>0</td>\n",
       "      <td>0</td>\n",
       "      <td>NaT</td>\n",
       "    </tr>\n",
       "    <tr>\n",
       "      <th>22</th>\n",
       "      <td>23</td>\n",
       "      <td>2021-01-02</td>\n",
       "      <td>3</td>\n",
       "      <td>4</td>\n",
       "      <td>0.0</td>\n",
       "      <td>NaT</td>\n",
       "      <td>1</td>\n",
       "      <td>0</td>\n",
       "      <td>0</td>\n",
       "      <td>0</td>\n",
       "      <td>...</td>\n",
       "      <td>1</td>\n",
       "      <td>0</td>\n",
       "      <td>0</td>\n",
       "      <td>0</td>\n",
       "      <td>0</td>\n",
       "      <td>0</td>\n",
       "      <td>0</td>\n",
       "      <td>0</td>\n",
       "      <td>0</td>\n",
       "      <td>NaT</td>\n",
       "    </tr>\n",
       "    <tr>\n",
       "      <th>29</th>\n",
       "      <td>30</td>\n",
       "      <td>2021-01-02</td>\n",
       "      <td>5</td>\n",
       "      <td>3</td>\n",
       "      <td>0.0</td>\n",
       "      <td>NaT</td>\n",
       "      <td>1</td>\n",
       "      <td>0</td>\n",
       "      <td>0</td>\n",
       "      <td>0</td>\n",
       "      <td>...</td>\n",
       "      <td>1</td>\n",
       "      <td>0</td>\n",
       "      <td>1</td>\n",
       "      <td>0</td>\n",
       "      <td>0</td>\n",
       "      <td>0</td>\n",
       "      <td>0</td>\n",
       "      <td>0</td>\n",
       "      <td>0</td>\n",
       "      <td>NaT</td>\n",
       "    </tr>\n",
       "    <tr>\n",
       "      <th>35</th>\n",
       "      <td>36</td>\n",
       "      <td>2021-01-02</td>\n",
       "      <td>4</td>\n",
       "      <td>1</td>\n",
       "      <td>0.0</td>\n",
       "      <td>NaT</td>\n",
       "      <td>1</td>\n",
       "      <td>0</td>\n",
       "      <td>0</td>\n",
       "      <td>0</td>\n",
       "      <td>...</td>\n",
       "      <td>0</td>\n",
       "      <td>0</td>\n",
       "      <td>1</td>\n",
       "      <td>0</td>\n",
       "      <td>0</td>\n",
       "      <td>0</td>\n",
       "      <td>0</td>\n",
       "      <td>0</td>\n",
       "      <td>0</td>\n",
       "      <td>NaT</td>\n",
       "    </tr>\n",
       "    <tr>\n",
       "      <th>...</th>\n",
       "      <td>...</td>\n",
       "      <td>...</td>\n",
       "      <td>...</td>\n",
       "      <td>...</td>\n",
       "      <td>...</td>\n",
       "      <td>...</td>\n",
       "      <td>...</td>\n",
       "      <td>...</td>\n",
       "      <td>...</td>\n",
       "      <td>...</td>\n",
       "      <td>...</td>\n",
       "      <td>...</td>\n",
       "      <td>...</td>\n",
       "      <td>...</td>\n",
       "      <td>...</td>\n",
       "      <td>...</td>\n",
       "      <td>...</td>\n",
       "      <td>...</td>\n",
       "      <td>...</td>\n",
       "      <td>...</td>\n",
       "      <td>...</td>\n",
       "    </tr>\n",
       "    <tr>\n",
       "      <th>39153</th>\n",
       "      <td>39154</td>\n",
       "      <td>2021-12-31</td>\n",
       "      <td>9</td>\n",
       "      <td>10</td>\n",
       "      <td>0.0</td>\n",
       "      <td>NaT</td>\n",
       "      <td>0</td>\n",
       "      <td>0</td>\n",
       "      <td>0</td>\n",
       "      <td>0</td>\n",
       "      <td>...</td>\n",
       "      <td>1</td>\n",
       "      <td>0</td>\n",
       "      <td>0</td>\n",
       "      <td>0</td>\n",
       "      <td>0</td>\n",
       "      <td>1</td>\n",
       "      <td>0</td>\n",
       "      <td>0</td>\n",
       "      <td>0</td>\n",
       "      <td>NaT</td>\n",
       "    </tr>\n",
       "    <tr>\n",
       "      <th>39155</th>\n",
       "      <td>39156</td>\n",
       "      <td>2021-12-31</td>\n",
       "      <td>3</td>\n",
       "      <td>2</td>\n",
       "      <td>0.0</td>\n",
       "      <td>NaT</td>\n",
       "      <td>0</td>\n",
       "      <td>0</td>\n",
       "      <td>0</td>\n",
       "      <td>0</td>\n",
       "      <td>...</td>\n",
       "      <td>0</td>\n",
       "      <td>0</td>\n",
       "      <td>0</td>\n",
       "      <td>0</td>\n",
       "      <td>0</td>\n",
       "      <td>1</td>\n",
       "      <td>0</td>\n",
       "      <td>0</td>\n",
       "      <td>0</td>\n",
       "      <td>NaT</td>\n",
       "    </tr>\n",
       "    <tr>\n",
       "      <th>39157</th>\n",
       "      <td>39158</td>\n",
       "      <td>2021-12-31</td>\n",
       "      <td>2</td>\n",
       "      <td>7</td>\n",
       "      <td>3.0</td>\n",
       "      <td>NaT</td>\n",
       "      <td>0</td>\n",
       "      <td>0</td>\n",
       "      <td>0</td>\n",
       "      <td>0</td>\n",
       "      <td>...</td>\n",
       "      <td>0</td>\n",
       "      <td>0</td>\n",
       "      <td>0</td>\n",
       "      <td>0</td>\n",
       "      <td>0</td>\n",
       "      <td>0</td>\n",
       "      <td>0</td>\n",
       "      <td>0</td>\n",
       "      <td>0</td>\n",
       "      <td>NaT</td>\n",
       "    </tr>\n",
       "    <tr>\n",
       "      <th>39158</th>\n",
       "      <td>39159</td>\n",
       "      <td>2021-12-31</td>\n",
       "      <td>5</td>\n",
       "      <td>5</td>\n",
       "      <td>2.0</td>\n",
       "      <td>NaT</td>\n",
       "      <td>1</td>\n",
       "      <td>0</td>\n",
       "      <td>0</td>\n",
       "      <td>0</td>\n",
       "      <td>...</td>\n",
       "      <td>0</td>\n",
       "      <td>1</td>\n",
       "      <td>0</td>\n",
       "      <td>0</td>\n",
       "      <td>0</td>\n",
       "      <td>0</td>\n",
       "      <td>0</td>\n",
       "      <td>0</td>\n",
       "      <td>0</td>\n",
       "      <td>NaT</td>\n",
       "    </tr>\n",
       "    <tr>\n",
       "      <th>39159</th>\n",
       "      <td>39160</td>\n",
       "      <td>2021-12-31</td>\n",
       "      <td>4</td>\n",
       "      <td>9</td>\n",
       "      <td>2.0</td>\n",
       "      <td>NaT</td>\n",
       "      <td>0</td>\n",
       "      <td>0</td>\n",
       "      <td>0</td>\n",
       "      <td>0</td>\n",
       "      <td>...</td>\n",
       "      <td>1</td>\n",
       "      <td>0</td>\n",
       "      <td>0</td>\n",
       "      <td>0</td>\n",
       "      <td>0</td>\n",
       "      <td>1</td>\n",
       "      <td>0</td>\n",
       "      <td>0</td>\n",
       "      <td>0</td>\n",
       "      <td>NaT</td>\n",
       "    </tr>\n",
       "  </tbody>\n",
       "</table>\n",
       "<p>15113 rows × 21 columns</p>\n",
       "</div>"
      ],
      "text/plain": [
       "          id created_at  campaign_var_1  campaign_var_2  products_purchased  \\\n",
       "11        12 2021-01-01               4               3                 0.0   \n",
       "21        22 2021-01-02               6               5                 0.0   \n",
       "22        23 2021-01-02               3               4                 0.0   \n",
       "29        30 2021-01-02               5               3                 0.0   \n",
       "35        36 2021-01-02               4               1                 0.0   \n",
       "...      ...        ...             ...             ...                 ...   \n",
       "39153  39154 2021-12-31               9              10                 0.0   \n",
       "39155  39156 2021-12-31               3               2                 0.0   \n",
       "39157  39158 2021-12-31               2               7                 3.0   \n",
       "39158  39159 2021-12-31               5               5                 2.0   \n",
       "39159  39160 2021-12-31               4               9                 2.0   \n",
       "\n",
       "      signup_date  user_activity_var_1  user_activity_var_2  \\\n",
       "11            NaT                    1                    0   \n",
       "21            NaT                    1                    0   \n",
       "22            NaT                    1                    0   \n",
       "29            NaT                    1                    0   \n",
       "35            NaT                    1                    0   \n",
       "...           ...                  ...                  ...   \n",
       "39153         NaT                    0                    0   \n",
       "39155         NaT                    0                    0   \n",
       "39157         NaT                    0                    0   \n",
       "39158         NaT                    1                    0   \n",
       "39159         NaT                    0                    0   \n",
       "\n",
       "       user_activity_var_3  user_activity_var_4  ...  user_activity_var_6  \\\n",
       "11                       0                    0  ...                    1   \n",
       "21                       0                    0  ...                    0   \n",
       "22                       0                    0  ...                    1   \n",
       "29                       0                    0  ...                    1   \n",
       "35                       0                    0  ...                    0   \n",
       "...                    ...                  ...  ...                  ...   \n",
       "39153                    0                    0  ...                    1   \n",
       "39155                    0                    0  ...                    0   \n",
       "39157                    0                    0  ...                    0   \n",
       "39158                    0                    0  ...                    0   \n",
       "39159                    0                    0  ...                    1   \n",
       "\n",
       "       user_activity_var_7  user_activity_var_8  user_activity_var_9  \\\n",
       "11                       0                    1                    0   \n",
       "21                       1                    0                    0   \n",
       "22                       0                    0                    0   \n",
       "29                       0                    1                    0   \n",
       "35                       0                    1                    0   \n",
       "...                    ...                  ...                  ...   \n",
       "39153                    0                    0                    0   \n",
       "39155                    0                    0                    0   \n",
       "39157                    0                    0                    0   \n",
       "39158                    1                    0                    0   \n",
       "39159                    0                    0                    0   \n",
       "\n",
       "       user_activity_var_10  user_activity_var_11  user_activity_var_12  buy  \\\n",
       "11                        0                     0                     0    0   \n",
       "21                        0                     0                     0    0   \n",
       "22                        0                     0                     0    0   \n",
       "29                        0                     0                     0    0   \n",
       "35                        0                     0                     0    0   \n",
       "...                     ...                   ...                   ...  ...   \n",
       "39153                     0                     1                     0    0   \n",
       "39155                     0                     1                     0    0   \n",
       "39157                     0                     0                     0    0   \n",
       "39158                     0                     0                     0    0   \n",
       "39159                     0                     1                     0    0   \n",
       "\n",
       "       has_signup  date_diff  \n",
       "11              0        NaT  \n",
       "21              0        NaT  \n",
       "22              0        NaT  \n",
       "29              0        NaT  \n",
       "35              0        NaT  \n",
       "...           ...        ...  \n",
       "39153           0        NaT  \n",
       "39155           0        NaT  \n",
       "39157           0        NaT  \n",
       "39158           0        NaT  \n",
       "39159           0        NaT  \n",
       "\n",
       "[15113 rows x 21 columns]"
      ]
     },
     "execution_count": 437,
     "metadata": {},
     "output_type": "execute_result"
    }
   ],
   "source": [
    "df[df['date_diff']=='NaT']"
   ]
  },
  {
   "cell_type": "code",
   "execution_count": 438,
   "metadata": {},
   "outputs": [],
   "source": [
    "df['date_diff'].replace({'NaT': '-1000'},inplace=True)"
   ]
  },
  {
   "cell_type": "code",
   "execution_count": 439,
   "metadata": {},
   "outputs": [],
   "source": [
    "df['date_diff']=df['date_diff'].astype(int)"
   ]
  },
  {
   "cell_type": "code",
   "execution_count": 440,
   "metadata": {},
   "outputs": [
    {
     "data": {
      "text/plain": [
       "<matplotlib.axes._subplots.AxesSubplot at 0x7fc5ea82d0d0>"
      ]
     },
     "execution_count": 440,
     "metadata": {},
     "output_type": "execute_result"
    },
    {
     "data": {
      "image/png": "[encoded data removed]",
      "text/plain": [
       "<Figure size 432x288 with 1 Axes>"
      ]
     },
     "metadata": {
      "needs_background": "light"
     },
     "output_type": "display_data"
    }
   ],
   "source": [
    "sns.distplot(df[(df['buy']==1) & (df['date_diff']!=-1000)]['date_diff'])"
   ]
  },
  {
   "cell_type": "code",
   "execution_count": 441,
   "metadata": {},
   "outputs": [
    {
     "data": {
      "text/plain": [
       "count    1973.000000\n",
       "mean      428.695388\n",
       "std       458.910571\n",
       "min      -387.000000\n",
       "25%        64.000000\n",
       "50%       344.000000\n",
       "75%       711.000000\n",
       "max      2350.000000\n",
       "Name: date_diff, dtype: float64"
      ]
     },
     "execution_count": 441,
     "metadata": {},
     "output_type": "execute_result"
    }
   ],
   "source": [
    "df[(df['buy']==1) & (df['date_diff']!=-1000)]['date_diff'].describe()"
   ]
  },
  {
   "cell_type": "code",
   "execution_count": 442,
   "metadata": {},
   "outputs": [
    {
     "data": {
      "text/plain": [
       "<matplotlib.axes._subplots.AxesSubplot at 0x7fc5f9accc10>"
      ]
     },
     "execution_count": 442,
     "metadata": {},
     "output_type": "execute_result"
    },
    {
     "data": {
      "image/png": "[encoded data removed]",
      "text/plain": [
       "<Figure size 432x288 with 1 Axes>"
      ]
     },
     "metadata": {
      "needs_background": "light"
     },
     "output_type": "display_data"
    }
   ],
   "source": [
    "sns.distplot(df[(df['buy']==0) & (df['date_diff']!=-1000)]['date_diff'])"
   ]
  },
  {
   "cell_type": "code",
   "execution_count": 443,
   "metadata": {},
   "outputs": [
    {
     "data": {
      "text/plain": [
       "count    22075.000000\n",
       "mean       290.547724\n",
       "std        374.313873\n",
       "min       -445.000000\n",
       "25%          1.000000\n",
       "50%        229.000000\n",
       "75%        517.000000\n",
       "max       2310.000000\n",
       "Name: date_diff, dtype: float64"
      ]
     },
     "execution_count": 443,
     "metadata": {},
     "output_type": "execute_result"
    }
   ],
   "source": [
    "df[(df['buy']==0) & (df['date_diff']!=-1000)]['date_diff'].describe()"
   ]
  },
  {
   "cell_type": "code",
   "execution_count": 444,
   "metadata": {},
   "outputs": [
    {
     "data": {
      "text/plain": [
       "<matplotlib.axes._subplots.AxesSubplot at 0x7fc5ae4c05d0>"
      ]
     },
     "execution_count": 444,
     "metadata": {},
     "output_type": "execute_result"
    },
    {
     "data": {
      "image/png": "[encoded data removed]",
      "text/plain": [
       "<Figure size 2160x1800 with 6 Axes>"
      ]
     },
     "metadata": {
      "needs_background": "light"
     },
     "output_type": "display_data"
    }
   ],
   "source": [
    "fig=plt.figure(figsize=(30,25))\n",
    "plt.subplot(2,3,1)\n",
    "sns.countplot(data=df,x='user_activity_var_1',hue='buy')\n",
    "plt.subplot(2,3,2)\n",
    "sns.countplot(data=df,x='user_activity_var_2',hue='buy')\n",
    "plt.subplot(2,3,3)\n",
    "sns.countplot(data=df,x='user_activity_var_3',hue='buy')\n",
    "plt.subplot(2,3,4)\n",
    "sns.countplot(data=df,x='user_activity_var_4',hue='buy')\n",
    "plt.subplot(2,3,5)\n",
    "sns.countplot(data=df,x='user_activity_var_5',hue='buy')\n",
    "plt.subplot(2,3,6)\n",
    "sns.countplot(data=df,x='user_activity_var_6',hue='buy')"
   ]
  },
  {
   "cell_type": "code",
   "execution_count": 445,
   "metadata": {},
   "outputs": [
    {
     "data": {
      "text/plain": [
       "<matplotlib.axes._subplots.AxesSubplot at 0x7fc5ae1e5550>"
      ]
     },
     "execution_count": 445,
     "metadata": {},
     "output_type": "execute_result"
    },
    {
     "data": {
      "image/png": "[encoded data removed]",
      "text/plain": [
       "<Figure size 2160x1800 with 6 Axes>"
      ]
     },
     "metadata": {
      "needs_background": "light"
     },
     "output_type": "display_data"
    }
   ],
   "source": [
    "plt.figure(figsize=(30,25))\n",
    "plt.subplot(2,3,1)\n",
    "sns.countplot(data=df,x='user_activity_var_7',hue='buy')\n",
    "plt.subplot(2,3,2)\n",
    "sns.countplot(data=df,x='user_activity_var_8',hue='buy')\n",
    "plt.subplot(2,3,3)\n",
    "sns.countplot(data=df,x='user_activity_var_9',hue='buy')\n",
    "plt.subplot(2,3,4)\n",
    "sns.countplot(data=df,x='user_activity_var_10',hue='buy')\n",
    "plt.subplot(2,3,5)\n",
    "sns.countplot(data=df,x='user_activity_var_11',hue='buy')\n",
    "plt.subplot(2,3,6)\n",
    "sns.countplot(data=df,x='user_activity_var_12',hue='buy')"
   ]
  },
  {
   "cell_type": "code",
   "execution_count": 446,
   "metadata": {},
   "outputs": [
    {
     "name": "stdout",
     "output_type": "stream",
     "text": [
      "1    220\n",
      "0      3\n",
      "Name: buy, dtype: int64\n",
      "1    23\n",
      "Name: buy, dtype: int64\n",
      "1    1\n",
      "Name: buy, dtype: int64\n"
     ]
    }
   ],
   "source": [
    "# checking the distribution of y(depedent_variable) for 'user_activity_var_11' in (2,3,4)\n",
    "print(df[df['user_activity_var_11']==2]['buy'].value_counts())\n",
    "\n",
    "print(df[df['user_activity_var_11']==3]['buy'].value_counts())\n",
    "\n",
    "print(df[df['user_activity_var_11']==4]['buy'].value_counts())"
   ]
  },
  {
   "cell_type": "code",
   "execution_count": 447,
   "metadata": {},
   "outputs": [],
   "source": [
    "# clubbing these 3 categories as they have the same distribution w.r.t dependent variable\n",
    "df['user_activity_var_11']=df['user_activity_var_11'].apply(lambda x : 2 if x in [2,3,4] else x)"
   ]
  },
  {
   "cell_type": "code",
   "execution_count": 448,
   "metadata": {},
   "outputs": [
    {
     "data": {
      "text/plain": [
       "<matplotlib.axes._subplots.AxesSubplot at 0x7fc5ae0e90d0>"
      ]
     },
     "execution_count": 448,
     "metadata": {},
     "output_type": "execute_result"
    },
    {
     "data": {
      "image/png": "[encoded data removed]",
      "text/plain": [
       "<Figure size 432x288 with 1 Axes>"
      ]
     },
     "metadata": {
      "needs_background": "light"
     },
     "output_type": "display_data"
    }
   ],
   "source": [
    "sns.countplot(data=df,x='user_activity_var_11',hue='buy')"
   ]
  },
  {
   "cell_type": "markdown",
   "metadata": {},
   "source": [
    "### EDA and feature engineering is complete........"
   ]
  },
  {
   "cell_type": "markdown",
   "metadata": {},
   "source": [
    "# Preparing the data for model run"
   ]
  },
  {
   "cell_type": "code",
   "execution_count": 449,
   "metadata": {},
   "outputs": [
    {
     "data": {
      "text/plain": [
       "Index(['id', 'created_at', 'campaign_var_1', 'campaign_var_2',\n",
       "       'products_purchased', 'signup_date', 'user_activity_var_1',\n",
       "       'user_activity_var_2', 'user_activity_var_3', 'user_activity_var_4',\n",
       "       'user_activity_var_5', 'user_activity_var_6', 'user_activity_var_7',\n",
       "       'user_activity_var_8', 'user_activity_var_9', 'user_activity_var_10',\n",
       "       'user_activity_var_11', 'user_activity_var_12', 'buy', 'has_signup',\n",
       "       'date_diff'],\n",
       "      dtype='object')"
      ]
     },
     "execution_count": 449,
     "metadata": {},
     "output_type": "execute_result"
    }
   ],
   "source": [
    "df.columns"
   ]
  },
  {
   "cell_type": "code",
   "execution_count": 450,
   "metadata": {},
   "outputs": [],
   "source": [
    "#datatype change for the given columns\n",
    "cols=['campaign_var_1', 'campaign_var_2',\n",
    "       'products_purchased', 'user_activity_var_1',\n",
    "       'user_activity_var_2', 'user_activity_var_3', 'user_activity_var_4',\n",
    "       'user_activity_var_5', 'user_activity_var_6', 'user_activity_var_7',\n",
    "       'user_activity_var_8', 'user_activity_var_9', 'user_activity_var_10',\n",
    "       'user_activity_var_11', 'user_activity_var_12']\n",
    "\n",
    "\n",
    "for i in cols:\n",
    "    df[i]=df[i].astype(str)"
   ]
  },
  {
   "cell_type": "code",
   "execution_count": 451,
   "metadata": {},
   "outputs": [
    {
     "data": {
      "text/plain": [
       "id                               int64\n",
       "created_at              datetime64[ns]\n",
       "campaign_var_1                  object\n",
       "campaign_var_2                  object\n",
       "products_purchased              object\n",
       "signup_date             datetime64[ns]\n",
       "user_activity_var_1             object\n",
       "user_activity_var_2             object\n",
       "user_activity_var_3             object\n",
       "user_activity_var_4             object\n",
       "user_activity_var_5             object\n",
       "user_activity_var_6             object\n",
       "user_activity_var_7             object\n",
       "user_activity_var_8             object\n",
       "user_activity_var_9             object\n",
       "user_activity_var_10            object\n",
       "user_activity_var_11            object\n",
       "user_activity_var_12            object\n",
       "buy                              int64\n",
       "has_signup                       int64\n",
       "date_diff                        int64\n",
       "dtype: object"
      ]
     },
     "execution_count": 451,
     "metadata": {},
     "output_type": "execute_result"
    }
   ],
   "source": [
    "df.dtypes"
   ]
  },
  {
   "cell_type": "code",
   "execution_count": 452,
   "metadata": {},
   "outputs": [],
   "source": [
    "# encoding the categorical variable\n",
    "df_1 = pd.get_dummies(df,columns=cols,drop_first=True)"
   ]
  },
  {
   "cell_type": "code",
   "execution_count": 453,
   "metadata": {},
   "outputs": [
    {
     "data": {
      "text/plain": [
       "Index(['id', 'created_at', 'signup_date', 'buy', 'has_signup', 'date_diff',\n",
       "       'campaign_var_1_10', 'campaign_var_1_2', 'campaign_var_1_3',\n",
       "       'campaign_var_1_4', 'campaign_var_1_5', 'campaign_var_1_6',\n",
       "       'campaign_var_1_7', 'campaign_var_1_8', 'campaign_var_1_9',\n",
       "       'campaign_var_2_10', 'campaign_var_2_2', 'campaign_var_2_3',\n",
       "       'campaign_var_2_4', 'campaign_var_2_5', 'campaign_var_2_6',\n",
       "       'campaign_var_2_7', 'campaign_var_2_8', 'campaign_var_2_9',\n",
       "       'products_purchased_1.0', 'products_purchased_2.0',\n",
       "       'products_purchased_3.0', 'products_purchased_4.0',\n",
       "       'user_activity_var_1_1', 'user_activity_var_1_2',\n",
       "       'user_activity_var_1_3', 'user_activity_var_2_1',\n",
       "       'user_activity_var_3_1', 'user_activity_var_4_1',\n",
       "       'user_activity_var_5_1', 'user_activity_var_5_2',\n",
       "       'user_activity_var_6_1', 'user_activity_var_6_2',\n",
       "       'user_activity_var_6_3', 'user_activity_var_7_1',\n",
       "       'user_activity_var_7_2', 'user_activity_var_8_1',\n",
       "       'user_activity_var_8_2', 'user_activity_var_9_1',\n",
       "       'user_activity_var_10_1', 'user_activity_var_11_1',\n",
       "       'user_activity_var_11_2', 'user_activity_var_12_1'],\n",
       "      dtype='object')"
      ]
     },
     "execution_count": 453,
     "metadata": {},
     "output_type": "execute_result"
    }
   ],
   "source": [
    "df_1.columns"
   ]
  },
  {
   "cell_type": "code",
   "execution_count": 454,
   "metadata": {},
   "outputs": [],
   "source": [
    "# dropping the id and dates columns\n",
    "df_1.drop(columns=['id','created_at','signup_date'],axis=1,inplace=True)"
   ]
  },
  {
   "cell_type": "code",
   "execution_count": 455,
   "metadata": {},
   "outputs": [
    {
     "data": {
      "text/plain": [
       "Index(['buy', 'has_signup', 'date_diff', 'campaign_var_1_10',\n",
       "       'campaign_var_1_2', 'campaign_var_1_3', 'campaign_var_1_4',\n",
       "       'campaign_var_1_5', 'campaign_var_1_6', 'campaign_var_1_7',\n",
       "       'campaign_var_1_8', 'campaign_var_1_9', 'campaign_var_2_10',\n",
       "       'campaign_var_2_2', 'campaign_var_2_3', 'campaign_var_2_4',\n",
       "       'campaign_var_2_5', 'campaign_var_2_6', 'campaign_var_2_7',\n",
       "       'campaign_var_2_8', 'campaign_var_2_9', 'products_purchased_1.0',\n",
       "       'products_purchased_2.0', 'products_purchased_3.0',\n",
       "       'products_purchased_4.0', 'user_activity_var_1_1',\n",
       "       'user_activity_var_1_2', 'user_activity_var_1_3',\n",
       "       'user_activity_var_2_1', 'user_activity_var_3_1',\n",
       "       'user_activity_var_4_1', 'user_activity_var_5_1',\n",
       "       'user_activity_var_5_2', 'user_activity_var_6_1',\n",
       "       'user_activity_var_6_2', 'user_activity_var_6_3',\n",
       "       'user_activity_var_7_1', 'user_activity_var_7_2',\n",
       "       'user_activity_var_8_1', 'user_activity_var_8_2',\n",
       "       'user_activity_var_9_1', 'user_activity_var_10_1',\n",
       "       'user_activity_var_11_1', 'user_activity_var_11_2',\n",
       "       'user_activity_var_12_1'],\n",
       "      dtype='object')"
      ]
     },
     "execution_count": 455,
     "metadata": {},
     "output_type": "execute_result"
    }
   ],
   "source": [
    "df_1.columns"
   ]
  },
  {
   "cell_type": "code",
   "execution_count": 456,
   "metadata": {},
   "outputs": [
    {
     "data": {
      "text/plain": [
       "<matplotlib.axes._subplots.AxesSubplot at 0x7fc5ae4d4450>"
      ]
     },
     "execution_count": 456,
     "metadata": {},
     "output_type": "execute_result"
    },
    {
     "data": {
      "image/png": "[encoded data removed]",
      "text/plain": [
       "<Figure size 792x720 with 2 Axes>"
      ]
     },
     "metadata": {
      "needs_background": "light"
     },
     "output_type": "display_data"
    }
   ],
   "source": [
    "# finding the corelation between the features\n",
    "plt.figure(figsize=(11,10))\n",
    "sns.heatmap(df_1.corr())"
   ]
  },
  {
   "cell_type": "code",
   "execution_count": 457,
   "metadata": {},
   "outputs": [],
   "source": [
    "X=df_1[[a for a in df_1.columns if a not in ['buy','date_diff']]]\n",
    "y=df_1['buy']"
   ]
  },
  {
   "cell_type": "code",
   "execution_count": 458,
   "metadata": {},
   "outputs": [],
   "source": [
    "def Counter(y):\n",
    "    print(y.value_counts())"
   ]
  },
  {
   "cell_type": "code",
   "execution_count": 459,
   "metadata": {},
   "outputs": [
    {
     "name": "stdout",
     "output_type": "stream",
     "text": [
      "0    37163\n",
      "1     1998\n",
      "Name: buy, dtype: int64\n"
     ]
    }
   ],
   "source": [
    "Counter(y)"
   ]
  },
  {
   "cell_type": "code",
   "execution_count": 460,
   "metadata": {},
   "outputs": [
    {
     "name": "stdout",
     "output_type": "stream",
     "text": [
      "Requirement already satisfied: imbalanced-learn==0.6.0 in /home/FRACTAL/bhupesh.hada/anaconda3/lib/python3.7/site-packages (0.6.0)\n",
      "Requirement already satisfied: numpy>=1.11 in /home/FRACTAL/bhupesh.hada/anaconda3/lib/python3.7/site-packages (from imbalanced-learn==0.6.0) (1.18.1)\n",
      "Requirement already satisfied: scipy>=0.17 in /home/FRACTAL/bhupesh.hada/anaconda3/lib/python3.7/site-packages (from imbalanced-learn==0.6.0) (1.4.1)\n",
      "Requirement already satisfied: joblib>=0.11 in /home/FRACTAL/bhupesh.hada/anaconda3/lib/python3.7/site-packages (from imbalanced-learn==0.6.0) (0.14.1)\n",
      "Requirement already satisfied: scikit-learn>=0.22 in /home/FRACTAL/bhupesh.hada/anaconda3/lib/python3.7/site-packages (from imbalanced-learn==0.6.0) (0.22.1)\n"
     ]
    }
   ],
   "source": [
    "! pip install imbalanced-learn==0.6.0"
   ]
  },
  {
   "cell_type": "code",
   "execution_count": 461,
   "metadata": {},
   "outputs": [],
   "source": [
    "from imblearn.under_sampling import RandomUnderSampler\n",
    "from imblearn.over_sampling import RandomOverSampler"
   ]
  },
  {
   "cell_type": "code",
   "execution_count": 530,
   "metadata": {},
   "outputs": [
    {
     "name": "stdout",
     "output_type": "stream",
     "text": [
      "0    37163\n",
      "1     1998\n",
      "Name: buy, dtype: int64\n",
      "original dataset shape: None\n",
      "0    9990\n",
      "1    1998\n",
      "Name: buy, dtype: int64\n",
      "Resample dataset shape None\n"
     ]
    }
   ],
   "source": [
    "# random undersampling \n",
    "# import library\n",
    "from imblearn.under_sampling import RandomUnderSampler\n",
    "\n",
    "rus = RandomUnderSampler(sampling_strategy=0.2,random_state=42, replacement=True)# fit predictor and target variable\n",
    "x_rus, y_rus = rus.fit_resample(X, y)\n",
    "\n",
    "print('original dataset shape:', Counter(y))\n",
    "print('Resample dataset shape', Counter(y_rus))"
   ]
  },
  {
   "cell_type": "code",
   "execution_count": 482,
   "metadata": {},
   "outputs": [],
   "source": [
    "# X=df[[a for a in df.columns if a not in ['buy','date_diff','id','id','created_at','signup_date']]]\n",
    "# y=df['buy']"
   ]
  },
  {
   "cell_type": "markdown",
   "metadata": {},
   "source": [
    "# Implemented Catboost but didnt work"
   ]
  },
  {
   "cell_type": "code",
   "execution_count": 162,
   "metadata": {},
   "outputs": [
    {
     "name": "stdout",
     "output_type": "stream",
     "text": [
      "[0, 1, 2, 3, 4, 5, 6, 7, 8, 9, 10, 11, 12, 13, 14, 15]\n"
     ]
    }
   ],
   "source": [
    "# cat_features = list(range(0, X.shape[1]))\n",
    "# print(cat_features)"
   ]
  },
  {
   "cell_type": "code",
   "execution_count": 509,
   "metadata": {},
   "outputs": [],
   "source": [
    "# x_rus.drop(columns=['campaign_var_2_10','campaign_var_1_10','user_activity_var_7_2','user_activity_var_6_3','user_activity_var_1_3','user_activity_var_8_2'],axis=1,inplace=True)"
   ]
  },
  {
   "cell_type": "code",
   "execution_count": 531,
   "metadata": {},
   "outputs": [],
   "source": [
    "X_train, X_test, y_train, y_test = train_test_split(x_rus,y_rus,test_size=0.2, stratify = y_rus)"
   ]
  },
  {
   "cell_type": "code",
   "execution_count": 241,
   "metadata": {},
   "outputs": [],
   "source": [
    "# X_train, X_test, y_train, y_test = train_test_split(X,y,test_size=0.2, stratify = y)"
   ]
  },
  {
   "cell_type": "code",
   "execution_count": 242,
   "metadata": {},
   "outputs": [
    {
     "data": {
      "text/html": [
       "<div>\n",
       "<style scoped>\n",
       "    .dataframe tbody tr th:only-of-type {\n",
       "        vertical-align: middle;\n",
       "    }\n",
       "\n",
       "    .dataframe tbody tr th {\n",
       "        vertical-align: top;\n",
       "    }\n",
       "\n",
       "    .dataframe thead th {\n",
       "        text-align: right;\n",
       "    }\n",
       "</style>\n",
       "<table border=\"1\" class=\"dataframe\">\n",
       "  <thead>\n",
       "    <tr style=\"text-align: right;\">\n",
       "      <th></th>\n",
       "      <th>has_signup</th>\n",
       "      <th>campaign_var_1_10</th>\n",
       "      <th>campaign_var_1_2</th>\n",
       "      <th>campaign_var_1_3</th>\n",
       "      <th>campaign_var_1_4</th>\n",
       "      <th>campaign_var_1_5</th>\n",
       "      <th>campaign_var_1_6</th>\n",
       "      <th>campaign_var_1_7</th>\n",
       "      <th>campaign_var_1_8</th>\n",
       "      <th>campaign_var_1_9</th>\n",
       "      <th>...</th>\n",
       "      <th>user_activity_var_6_3</th>\n",
       "      <th>user_activity_var_7_1</th>\n",
       "      <th>user_activity_var_7_2</th>\n",
       "      <th>user_activity_var_8_1</th>\n",
       "      <th>user_activity_var_8_2</th>\n",
       "      <th>user_activity_var_9_1</th>\n",
       "      <th>user_activity_var_10_1</th>\n",
       "      <th>user_activity_var_11_1</th>\n",
       "      <th>user_activity_var_11_2</th>\n",
       "      <th>user_activity_var_12_1</th>\n",
       "    </tr>\n",
       "  </thead>\n",
       "  <tbody>\n",
       "    <tr>\n",
       "      <th>15516</th>\n",
       "      <td>0</td>\n",
       "      <td>0</td>\n",
       "      <td>1</td>\n",
       "      <td>0</td>\n",
       "      <td>0</td>\n",
       "      <td>0</td>\n",
       "      <td>0</td>\n",
       "      <td>0</td>\n",
       "      <td>0</td>\n",
       "      <td>0</td>\n",
       "      <td>...</td>\n",
       "      <td>0</td>\n",
       "      <td>0</td>\n",
       "      <td>0</td>\n",
       "      <td>0</td>\n",
       "      <td>0</td>\n",
       "      <td>0</td>\n",
       "      <td>0</td>\n",
       "      <td>0</td>\n",
       "      <td>0</td>\n",
       "      <td>0</td>\n",
       "    </tr>\n",
       "    <tr>\n",
       "      <th>15379</th>\n",
       "      <td>1</td>\n",
       "      <td>0</td>\n",
       "      <td>0</td>\n",
       "      <td>0</td>\n",
       "      <td>0</td>\n",
       "      <td>0</td>\n",
       "      <td>0</td>\n",
       "      <td>0</td>\n",
       "      <td>1</td>\n",
       "      <td>0</td>\n",
       "      <td>...</td>\n",
       "      <td>0</td>\n",
       "      <td>0</td>\n",
       "      <td>0</td>\n",
       "      <td>0</td>\n",
       "      <td>0</td>\n",
       "      <td>0</td>\n",
       "      <td>0</td>\n",
       "      <td>1</td>\n",
       "      <td>0</td>\n",
       "      <td>0</td>\n",
       "    </tr>\n",
       "    <tr>\n",
       "      <th>17107</th>\n",
       "      <td>0</td>\n",
       "      <td>0</td>\n",
       "      <td>1</td>\n",
       "      <td>0</td>\n",
       "      <td>0</td>\n",
       "      <td>0</td>\n",
       "      <td>0</td>\n",
       "      <td>0</td>\n",
       "      <td>0</td>\n",
       "      <td>0</td>\n",
       "      <td>...</td>\n",
       "      <td>0</td>\n",
       "      <td>0</td>\n",
       "      <td>0</td>\n",
       "      <td>0</td>\n",
       "      <td>0</td>\n",
       "      <td>0</td>\n",
       "      <td>0</td>\n",
       "      <td>0</td>\n",
       "      <td>0</td>\n",
       "      <td>0</td>\n",
       "    </tr>\n",
       "    <tr>\n",
       "      <th>32546</th>\n",
       "      <td>0</td>\n",
       "      <td>0</td>\n",
       "      <td>1</td>\n",
       "      <td>0</td>\n",
       "      <td>0</td>\n",
       "      <td>0</td>\n",
       "      <td>0</td>\n",
       "      <td>0</td>\n",
       "      <td>0</td>\n",
       "      <td>0</td>\n",
       "      <td>...</td>\n",
       "      <td>0</td>\n",
       "      <td>0</td>\n",
       "      <td>0</td>\n",
       "      <td>0</td>\n",
       "      <td>0</td>\n",
       "      <td>0</td>\n",
       "      <td>0</td>\n",
       "      <td>1</td>\n",
       "      <td>0</td>\n",
       "      <td>0</td>\n",
       "    </tr>\n",
       "    <tr>\n",
       "      <th>13649</th>\n",
       "      <td>0</td>\n",
       "      <td>0</td>\n",
       "      <td>0</td>\n",
       "      <td>0</td>\n",
       "      <td>0</td>\n",
       "      <td>0</td>\n",
       "      <td>1</td>\n",
       "      <td>0</td>\n",
       "      <td>0</td>\n",
       "      <td>0</td>\n",
       "      <td>...</td>\n",
       "      <td>0</td>\n",
       "      <td>0</td>\n",
       "      <td>0</td>\n",
       "      <td>0</td>\n",
       "      <td>0</td>\n",
       "      <td>0</td>\n",
       "      <td>0</td>\n",
       "      <td>1</td>\n",
       "      <td>0</td>\n",
       "      <td>0</td>\n",
       "    </tr>\n",
       "    <tr>\n",
       "      <th>...</th>\n",
       "      <td>...</td>\n",
       "      <td>...</td>\n",
       "      <td>...</td>\n",
       "      <td>...</td>\n",
       "      <td>...</td>\n",
       "      <td>...</td>\n",
       "      <td>...</td>\n",
       "      <td>...</td>\n",
       "      <td>...</td>\n",
       "      <td>...</td>\n",
       "      <td>...</td>\n",
       "      <td>...</td>\n",
       "      <td>...</td>\n",
       "      <td>...</td>\n",
       "      <td>...</td>\n",
       "      <td>...</td>\n",
       "      <td>...</td>\n",
       "      <td>...</td>\n",
       "      <td>...</td>\n",
       "      <td>...</td>\n",
       "      <td>...</td>\n",
       "    </tr>\n",
       "    <tr>\n",
       "      <th>35327</th>\n",
       "      <td>0</td>\n",
       "      <td>0</td>\n",
       "      <td>0</td>\n",
       "      <td>0</td>\n",
       "      <td>1</td>\n",
       "      <td>0</td>\n",
       "      <td>0</td>\n",
       "      <td>0</td>\n",
       "      <td>0</td>\n",
       "      <td>0</td>\n",
       "      <td>...</td>\n",
       "      <td>0</td>\n",
       "      <td>0</td>\n",
       "      <td>0</td>\n",
       "      <td>0</td>\n",
       "      <td>0</td>\n",
       "      <td>0</td>\n",
       "      <td>0</td>\n",
       "      <td>0</td>\n",
       "      <td>0</td>\n",
       "      <td>0</td>\n",
       "    </tr>\n",
       "    <tr>\n",
       "      <th>35927</th>\n",
       "      <td>0</td>\n",
       "      <td>0</td>\n",
       "      <td>0</td>\n",
       "      <td>0</td>\n",
       "      <td>0</td>\n",
       "      <td>0</td>\n",
       "      <td>0</td>\n",
       "      <td>0</td>\n",
       "      <td>1</td>\n",
       "      <td>0</td>\n",
       "      <td>...</td>\n",
       "      <td>0</td>\n",
       "      <td>1</td>\n",
       "      <td>0</td>\n",
       "      <td>0</td>\n",
       "      <td>0</td>\n",
       "      <td>0</td>\n",
       "      <td>0</td>\n",
       "      <td>1</td>\n",
       "      <td>0</td>\n",
       "      <td>0</td>\n",
       "    </tr>\n",
       "    <tr>\n",
       "      <th>26299</th>\n",
       "      <td>1</td>\n",
       "      <td>0</td>\n",
       "      <td>0</td>\n",
       "      <td>0</td>\n",
       "      <td>1</td>\n",
       "      <td>0</td>\n",
       "      <td>0</td>\n",
       "      <td>0</td>\n",
       "      <td>0</td>\n",
       "      <td>0</td>\n",
       "      <td>...</td>\n",
       "      <td>0</td>\n",
       "      <td>0</td>\n",
       "      <td>0</td>\n",
       "      <td>0</td>\n",
       "      <td>0</td>\n",
       "      <td>0</td>\n",
       "      <td>0</td>\n",
       "      <td>0</td>\n",
       "      <td>0</td>\n",
       "      <td>0</td>\n",
       "    </tr>\n",
       "    <tr>\n",
       "      <th>6388</th>\n",
       "      <td>1</td>\n",
       "      <td>0</td>\n",
       "      <td>1</td>\n",
       "      <td>0</td>\n",
       "      <td>0</td>\n",
       "      <td>0</td>\n",
       "      <td>0</td>\n",
       "      <td>0</td>\n",
       "      <td>0</td>\n",
       "      <td>0</td>\n",
       "      <td>...</td>\n",
       "      <td>0</td>\n",
       "      <td>0</td>\n",
       "      <td>0</td>\n",
       "      <td>0</td>\n",
       "      <td>0</td>\n",
       "      <td>0</td>\n",
       "      <td>0</td>\n",
       "      <td>0</td>\n",
       "      <td>0</td>\n",
       "      <td>0</td>\n",
       "    </tr>\n",
       "    <tr>\n",
       "      <th>36775</th>\n",
       "      <td>0</td>\n",
       "      <td>0</td>\n",
       "      <td>0</td>\n",
       "      <td>0</td>\n",
       "      <td>0</td>\n",
       "      <td>0</td>\n",
       "      <td>0</td>\n",
       "      <td>1</td>\n",
       "      <td>0</td>\n",
       "      <td>0</td>\n",
       "      <td>...</td>\n",
       "      <td>0</td>\n",
       "      <td>0</td>\n",
       "      <td>0</td>\n",
       "      <td>0</td>\n",
       "      <td>0</td>\n",
       "      <td>0</td>\n",
       "      <td>0</td>\n",
       "      <td>0</td>\n",
       "      <td>0</td>\n",
       "      <td>0</td>\n",
       "    </tr>\n",
       "  </tbody>\n",
       "</table>\n",
       "<p>31328 rows × 43 columns</p>\n",
       "</div>"
      ],
      "text/plain": [
       "       has_signup  campaign_var_1_10  campaign_var_1_2  campaign_var_1_3  \\\n",
       "15516           0                  0                 1                 0   \n",
       "15379           1                  0                 0                 0   \n",
       "17107           0                  0                 1                 0   \n",
       "32546           0                  0                 1                 0   \n",
       "13649           0                  0                 0                 0   \n",
       "...           ...                ...               ...               ...   \n",
       "35327           0                  0                 0                 0   \n",
       "35927           0                  0                 0                 0   \n",
       "26299           1                  0                 0                 0   \n",
       "6388            1                  0                 1                 0   \n",
       "36775           0                  0                 0                 0   \n",
       "\n",
       "       campaign_var_1_4  campaign_var_1_5  campaign_var_1_6  campaign_var_1_7  \\\n",
       "15516                 0                 0                 0                 0   \n",
       "15379                 0                 0                 0                 0   \n",
       "17107                 0                 0                 0                 0   \n",
       "32546                 0                 0                 0                 0   \n",
       "13649                 0                 0                 1                 0   \n",
       "...                 ...               ...               ...               ...   \n",
       "35327                 1                 0                 0                 0   \n",
       "35927                 0                 0                 0                 0   \n",
       "26299                 1                 0                 0                 0   \n",
       "6388                  0                 0                 0                 0   \n",
       "36775                 0                 0                 0                 1   \n",
       "\n",
       "       campaign_var_1_8  campaign_var_1_9  ...  user_activity_var_6_3  \\\n",
       "15516                 0                 0  ...                      0   \n",
       "15379                 1                 0  ...                      0   \n",
       "17107                 0                 0  ...                      0   \n",
       "32546                 0                 0  ...                      0   \n",
       "13649                 0                 0  ...                      0   \n",
       "...                 ...               ...  ...                    ...   \n",
       "35327                 0                 0  ...                      0   \n",
       "35927                 1                 0  ...                      0   \n",
       "26299                 0                 0  ...                      0   \n",
       "6388                  0                 0  ...                      0   \n",
       "36775                 0                 0  ...                      0   \n",
       "\n",
       "       user_activity_var_7_1  user_activity_var_7_2  user_activity_var_8_1  \\\n",
       "15516                      0                      0                      0   \n",
       "15379                      0                      0                      0   \n",
       "17107                      0                      0                      0   \n",
       "32546                      0                      0                      0   \n",
       "13649                      0                      0                      0   \n",
       "...                      ...                    ...                    ...   \n",
       "35327                      0                      0                      0   \n",
       "35927                      1                      0                      0   \n",
       "26299                      0                      0                      0   \n",
       "6388                       0                      0                      0   \n",
       "36775                      0                      0                      0   \n",
       "\n",
       "       user_activity_var_8_2  user_activity_var_9_1  user_activity_var_10_1  \\\n",
       "15516                      0                      0                       0   \n",
       "15379                      0                      0                       0   \n",
       "17107                      0                      0                       0   \n",
       "32546                      0                      0                       0   \n",
       "13649                      0                      0                       0   \n",
       "...                      ...                    ...                     ...   \n",
       "35327                      0                      0                       0   \n",
       "35927                      0                      0                       0   \n",
       "26299                      0                      0                       0   \n",
       "6388                       0                      0                       0   \n",
       "36775                      0                      0                       0   \n",
       "\n",
       "       user_activity_var_11_1  user_activity_var_11_2  user_activity_var_12_1  \n",
       "15516                       0                       0                       0  \n",
       "15379                       1                       0                       0  \n",
       "17107                       0                       0                       0  \n",
       "32546                       1                       0                       0  \n",
       "13649                       1                       0                       0  \n",
       "...                       ...                     ...                     ...  \n",
       "35327                       0                       0                       0  \n",
       "35927                       1                       0                       0  \n",
       "26299                       0                       0                       0  \n",
       "6388                        0                       0                       0  \n",
       "36775                       0                       0                       0  \n",
       "\n",
       "[31328 rows x 43 columns]"
      ]
     },
     "execution_count": 242,
     "metadata": {},
     "output_type": "execute_result"
    }
   ],
   "source": [
    "X_train"
   ]
  },
  {
   "cell_type": "code",
   "execution_count": 165,
   "metadata": {},
   "outputs": [],
   "source": [
    "# from catboost import CatBoostClassifier"
   ]
  },
  {
   "cell_type": "code",
   "execution_count": 166,
   "metadata": {},
   "outputs": [
    {
     "data": {
      "text/plain": [
       "<catboost.core.CatBoostClassifier at 0x7fc5ea05ea50>"
      ]
     },
     "execution_count": 166,
     "metadata": {},
     "output_type": "execute_result"
    }
   ],
   "source": [
    "\n",
    "# clf = CatBoostClassifier(\n",
    "#     iterations=150, \n",
    "#     depth = 10,\n",
    "#     learning_rate=0.1, \n",
    "#     #loss_function='CrossEntropy'\n",
    "# )\n",
    "\n",
    "\n",
    "# clf.fit(X_train, y_train, \n",
    "#         cat_features=cat_features, \n",
    "#         eval_set=(X_test, y_test), \n",
    "#         verbose=False\n",
    "# )"
   ]
  },
  {
   "cell_type": "code",
   "execution_count": 167,
   "metadata": {},
   "outputs": [
    {
     "name": "stdout",
     "output_type": "stream",
     "text": [
      "Confusion_matrix: [[29694    36]\n",
      " [  699   899]]\n",
      "f1_score: 0.7098302408211608\n",
      "Accuracy: 0.9765385597548519\n",
      "roc_auc_score: 0.7806836623478643\n"
     ]
    }
   ],
   "source": [
    "# # making prediction on the test dataset\n",
    "# y_pred=clf.predict(X_train)\n",
    "\n",
    "# # checking the metric scores\n",
    "# print(f\"Confusion_matrix: {confusion_matrix(y_train,y_pred)}\")\n",
    "# print(f\"f1_score: {f1_score(y_train,y_pred)}\")\n",
    "# print(f\"Accuracy: {accuracy_score(y_train,y_pred)}\")\n",
    "# print(f\"roc_auc_score: {roc_auc_score(y_train,y_pred)}\")"
   ]
  },
  {
   "cell_type": "code",
   "execution_count": 168,
   "metadata": {},
   "outputs": [
    {
     "name": "stdout",
     "output_type": "stream",
     "text": [
      "Confusion_matrix: [[7416   17]\n",
      " [ 183  217]]\n",
      "f1_score: 0.6845425867507887\n",
      "Accuracy: 0.974466998595685\n",
      "roc_auc_score: 0.7701064509619265\n"
     ]
    }
   ],
   "source": [
    "# # making prediction on the test dataset\n",
    "# y_pred_2=clf.predict(X_test)\n",
    "\n",
    "# # checking the metric scores\n",
    "# print(f\"Confusion_matrix: {confusion_matrix(y_test,y_pred_2)}\")\n",
    "# print(f\"f1_score: {f1_score(y_test,y_pred_2)}\")\n",
    "# print(f\"Accuracy: {accuracy_score(y_test,y_pred_2)}\")\n",
    "# print(f\"roc_auc_score: {roc_auc_score(y_test,y_pred_2)}\")"
   ]
  },
  {
   "cell_type": "code",
   "execution_count": 532,
   "metadata": {},
   "outputs": [
    {
     "data": {
      "text/plain": [
       "0.16663190823774765"
      ]
     },
     "execution_count": 532,
     "metadata": {},
     "output_type": "execute_result"
    }
   ],
   "source": [
    "sum(y_train)/len(y_train)"
   ]
  },
  {
   "cell_type": "code",
   "execution_count": 533,
   "metadata": {},
   "outputs": [
    {
     "data": {
      "text/plain": [
       "0.16680567139282734"
      ]
     },
     "execution_count": 533,
     "metadata": {},
     "output_type": "execute_result"
    }
   ],
   "source": [
    "sum(y_test)/len(y_test)"
   ]
  },
  {
   "cell_type": "code",
   "execution_count": 171,
   "metadata": {},
   "outputs": [],
   "source": [
    "# random forest classifier\n",
    "from sklearn.ensemble import RandomForestClassifier\n",
    "classifier = RandomForestClassifier()"
   ]
  },
  {
   "cell_type": "code",
   "execution_count": 185,
   "metadata": {},
   "outputs": [
    {
     "data": {
      "text/plain": [
       "GridSearchCV(cv=5, error_score=nan,\n",
       "             estimator=RandomForestClassifier(bootstrap=True, ccp_alpha=0.0,\n",
       "                                              class_weight=None,\n",
       "                                              criterion='gini', max_depth=None,\n",
       "                                              max_features='auto',\n",
       "                                              max_leaf_nodes=None,\n",
       "                                              max_samples=None,\n",
       "                                              min_impurity_decrease=0.0,\n",
       "                                              min_impurity_split=None,\n",
       "                                              min_samples_leaf=1,\n",
       "                                              min_samples_split=2,\n",
       "                                              min_weight_fraction_leaf=0.0,\n",
       "                                              n_estimators=100, n_jobs=None,\n",
       "                                              oob_score=False,\n",
       "                                              random_state=None, verbose=0,\n",
       "                                              warm_start=False),\n",
       "             iid='deprecated', n_jobs=None,\n",
       "             param_grid={'class_weight': ['balanced'],\n",
       "                         'max_depth': [5, 8, 10, 12, 15],\n",
       "                         'max_features': ['auto', 'log2'],\n",
       "                         'n_estimators': [10, 15, 20, 25, 50, 75, 100, 125,\n",
       "                                          150]},\n",
       "             pre_dispatch='2*n_jobs', refit=True, return_train_score=True,\n",
       "             scoring='f1', verbose=0)"
      ]
     },
     "execution_count": 185,
     "metadata": {},
     "output_type": "execute_result"
    }
   ],
   "source": [
    "params = {'n_estimators':[10,15,20,25,50,75,100,125,150],\n",
    "         'max_depth':[5,8,10,12,15],\n",
    "         'max_features':['auto','log2'],\n",
    "         'class_weight':['balanced']}\n",
    "\n",
    "grid_cv = GridSearchCV(classifier,param_grid=params,cv=5,return_train_score=True,scoring='f1')\n",
    "\n",
    "grid_cv.fit(X_train,y_train)"
   ]
  },
  {
   "cell_type": "code",
   "execution_count": 186,
   "metadata": {},
   "outputs": [
    {
     "data": {
      "text/plain": [
       "{'class_weight': 'balanced',\n",
       " 'max_depth': 15,\n",
       " 'max_features': 'log2',\n",
       " 'n_estimators': 150}"
      ]
     },
     "execution_count": 186,
     "metadata": {},
     "output_type": "execute_result"
    }
   ],
   "source": [
    "grid_cv.best_params_"
   ]
  },
  {
   "cell_type": "code",
   "execution_count": 537,
   "metadata": {},
   "outputs": [
    {
     "data": {
      "text/plain": [
       "RandomForestClassifier(bootstrap=True, ccp_alpha=0.0, class_weight=None,\n",
       "                       criterion='gini', max_depth=12, max_features='log2',\n",
       "                       max_leaf_nodes=None, max_samples=None,\n",
       "                       min_impurity_decrease=0.0, min_impurity_split=None,\n",
       "                       min_samples_leaf=1, min_samples_split=2,\n",
       "                       min_weight_fraction_leaf=0.0, n_estimators=300,\n",
       "                       n_jobs=None, oob_score=False, random_state=None,\n",
       "                       verbose=0, warm_start=False)"
      ]
     },
     "execution_count": 537,
     "metadata": {},
     "output_type": "execute_result"
    }
   ],
   "source": [
    "classifier = RandomForestClassifier(max_depth=12, n_estimators= 300,max_features='log2')\n",
    "classifier.fit(X_train,y_train)"
   ]
  },
  {
   "cell_type": "code",
   "execution_count": 538,
   "metadata": {},
   "outputs": [
    {
     "name": "stdout",
     "output_type": "stream",
     "text": [
      "Confusion_matrix: [[7987    5]\n",
      " [ 685  913]]\n",
      "f1_score: 0.7257551669316376\n",
      "Accuracy: 0.9280500521376434\n",
      "roc_auc_score: 0.7853567741709169\n"
     ]
    }
   ],
   "source": [
    "# making prediction on the test dataset\n",
    "y_pred=classifier.predict(X_train)\n",
    "\n",
    "# checking the metric scores\n",
    "print(f\"Confusion_matrix: {confusion_matrix(y_train,y_pred)}\")\n",
    "print(f\"f1_score: {f1_score(y_train,y_pred)}\")\n",
    "print(f\"Accuracy: {accuracy_score(y_train,y_pred)}\")\n",
    "print(f\"roc_auc_score: {roc_auc_score(y_train,y_pred)}\")"
   ]
  },
  {
   "cell_type": "code",
   "execution_count": 539,
   "metadata": {},
   "outputs": [
    {
     "name": "stdout",
     "output_type": "stream",
     "text": [
      "Confusion_matrix: [[1994    4]\n",
      " [ 176  224]]\n",
      "f1_score: 0.7133757961783439\n",
      "Accuracy: 0.9249374478732277\n",
      "roc_auc_score: 0.778998998998999\n"
     ]
    }
   ],
   "source": [
    "# making prediction on the test dataset\n",
    "y_pred_2=classifier.predict(X_test)\n",
    "\n",
    "# checking the metric scores\n",
    "print(f\"Confusion_matrix: {confusion_matrix(y_test,y_pred_2)}\")\n",
    "print(f\"f1_score: {f1_score(y_test,y_pred_2)}\")\n",
    "print(f\"Accuracy: {accuracy_score(y_test,y_pred_2)}\")\n",
    "print(f\"roc_auc_score: {roc_auc_score(y_test,y_pred_2)}\")"
   ]
  },
  {
   "cell_type": "markdown",
   "metadata": {},
   "source": [
    "# implementing lightgbm"
   ]
  },
  {
   "cell_type": "code",
   "execution_count": 60,
   "metadata": {},
   "outputs": [],
   "source": [
    "import lightgbm as lgb\n",
    "classifier_2_=lgb.LGBMClassifier()"
   ]
  },
  {
   "cell_type": "code",
   "execution_count": 545,
   "metadata": {},
   "outputs": [],
   "source": [
    "params = {'n_estimators':[75,100,125,150,175,200,225,250,275,300],\n",
    "         'max_depth':[12,15,18,20,23,25,27,30],\n",
    "         'learning_rate' : [0.1,0.15,0.2,0.25,0.3,0.35,0.4,0.45,0.5]}\n",
    "\n",
    "grid_cv_lgb = GridSearchCV(classifier_2_,param_grid=params,cv=5,return_train_score=True,scoring='f1')\n",
    "\n",
    "grid_cv_lgb.fit(X_train,y_train)"
   ]
  },
  {
   "cell_type": "code",
   "execution_count": null,
   "metadata": {},
   "outputs": [],
   "source": [
    "grid_cv_lgb.best_params_"
   ]
  },
  {
   "cell_type": "code",
   "execution_count": 373,
   "metadata": {},
   "outputs": [
    {
     "data": {
      "text/plain": [
       "LGBMClassifier(boosting_type='gbdt', class_weight=None, colsample_bytree=1.0,\n",
       "               importance_type='split', learning_rate=0.25, max_depth=4,\n",
       "               min_child_samples=20, min_child_weight=0.001, min_split_gain=0.0,\n",
       "               n_estimators=100, n_jobs=-1, num_leaves=31, objective=None,\n",
       "               random_state=None, reg_alpha=0.0, reg_lambda=0.0, silent='warn',\n",
       "               subsample=1.0, subsample_for_bin=200000, subsample_freq=0)"
      ]
     },
     "execution_count": 373,
     "metadata": {},
     "output_type": "execute_result"
    }
   ],
   "source": [
    "classifier_2_ = lgb.LGBMClassifier(max_depth=4, n_estimators= 100,learning_rate=0.25)\n",
    "classifier_2_.fit(X_train,y_train)"
   ]
  },
  {
   "cell_type": "code",
   "execution_count": 375,
   "metadata": {},
   "outputs": [
    {
     "name": "stdout",
     "output_type": "stream",
     "text": [
      "Confusion_matrix: [[7926   66]\n",
      " [ 551 1047]]\n",
      "f1_score: 0.7724087052748063\n",
      "precision_score: 0.7724087052748063\n",
      "recall_score: 0.7724087052748063\n",
      "Accuracy: 0.9356621480709072\n",
      "roc_auc_score: 0.8234678671161776\n"
     ]
    }
   ],
   "source": [
    "# making prediction on the test dataset\n",
    "y_pred=classifier_2_.predict(X_train)\n",
    "\n",
    "# checking the metric scores\n",
    "print(f\"Confusion_matrix: {confusion_matrix(y_train,y_pred)}\")\n",
    "print(f\"f1_score: {f1_score(y_train,y_pred)}\")\n",
    "print(f\"precision_score: {f1_score(y_train,y_pred)}\")\n",
    "print(f\"recall_score: {f1_score(y_train,y_pred)}\")\n",
    "print(f\"Accuracy: {accuracy_score(y_train,y_pred)}\")\n",
    "print(f\"roc_auc_score: {roc_auc_score(y_train,y_pred)}\")"
   ]
  },
  {
   "cell_type": "code",
   "execution_count": 372,
   "metadata": {},
   "outputs": [
    {
     "name": "stdout",
     "output_type": "stream",
     "text": [
      "Confusion_matrix: [[1964   34]\n",
      " [ 137  263]]\n",
      "f1_score: 0.7546628407460545\n",
      "precision_score: 0.7546628407460545\n",
      "recall_score: 0.7546628407460545\n",
      "Accuracy: 0.9286905754795663\n",
      "roc_auc_score: 0.8202414914914915\n"
     ]
    }
   ],
   "source": [
    "# making prediction on the test dataset\n",
    "y_pred_2=classifier_2_.predict(X_test)\n",
    "\n",
    "# checking the metric scores\n",
    "print(f\"Confusion_matrix: {confusion_matrix(y_test,y_pred_2)}\")\n",
    "print(f\"f1_score: {f1_score(y_test,y_pred_2)}\")\n",
    "print(f\"precision_score: {f1_score(y_test,y_pred_2)}\")\n",
    "print(f\"recall_score: {f1_score(y_test,y_pred_2)}\")\n",
    "print(f\"Accuracy: {accuracy_score(y_test,y_pred_2)}\")\n",
    "print(f\"roc_auc_score: {roc_auc_score(y_test,y_pred_2)}\")"
   ]
  },
  {
   "cell_type": "code",
   "execution_count": null,
   "metadata": {},
   "outputs": [],
   "source": []
  },
  {
   "cell_type": "markdown",
   "metadata": {},
   "source": [
    "# implementing xgboost"
   ]
  },
  {
   "cell_type": "code",
   "execution_count": 98,
   "metadata": {},
   "outputs": [
    {
     "name": "stdout",
     "output_type": "stream",
     "text": [
      "Collecting xgboost\n",
      "  Downloading xgboost-1.6.1-py3-none-manylinux2014_x86_64.whl (192.9 MB)\n",
      "\u001b[K     |████████████████████████████████| 192.9 MB 31 kB/s s eta 0:00:01     |███████████████████████████████ | 186.6 MB 2.2 MB/s eta 0:00:03\n",
      "\u001b[?25hRequirement already satisfied: scipy in /home/FRACTAL/bhupesh.hada/anaconda3/lib/python3.7/site-packages (from xgboost) (1.4.1)\n",
      "Requirement already satisfied: numpy in /home/FRACTAL/bhupesh.hada/anaconda3/lib/python3.7/site-packages (from xgboost) (1.18.1)\n",
      "Installing collected packages: xgboost\n",
      "Successfully installed xgboost-1.6.1\n"
     ]
    }
   ],
   "source": [
    "! pip install xgboost"
   ]
  },
  {
   "cell_type": "code",
   "execution_count": 99,
   "metadata": {},
   "outputs": [],
   "source": [
    "import xgboost as xgb"
   ]
  },
  {
   "cell_type": "code",
   "execution_count": 105,
   "metadata": {},
   "outputs": [],
   "source": [
    "clssifier_3 = xgb.XGBClassifier(objective='binary:logistic')"
   ]
  },
  {
   "cell_type": "code",
   "execution_count": 380,
   "metadata": {},
   "outputs": [
    {
     "name": "stdout",
     "output_type": "stream",
     "text": [
      "[0]\tvalidation_0-logloss:0.50317\n",
      "[1]\tvalidation_0-logloss:0.39992\n",
      "[2]\tvalidation_0-logloss:0.33596\n",
      "[3]\tvalidation_0-logloss:0.29413\n",
      "[4]\tvalidation_0-logloss:0.26537\n",
      "[5]\tvalidation_0-logloss:0.24561\n",
      "[6]\tvalidation_0-logloss:0.23236\n",
      "[7]\tvalidation_0-logloss:0.22309\n",
      "[8]\tvalidation_0-logloss:0.21525\n",
      "[9]\tvalidation_0-logloss:0.21063\n"
     ]
    },
    {
     "name": "stderr",
     "output_type": "stream",
     "text": [
      "/home/FRACTAL/bhupesh.hada/anaconda3/lib/python3.7/site-packages/xgboost/sklearn.py:797: UserWarning: `eval_metric` in `fit` method is deprecated for better compatibility with scikit-learn, use `eval_metric` in constructor or`set_params` instead.\n",
      "  UserWarning,\n",
      "/home/FRACTAL/bhupesh.hada/anaconda3/lib/python3.7/site-packages/xgboost/sklearn.py:797: UserWarning: `early_stopping_rounds` in `fit` method is deprecated for better compatibility with scikit-learn, use `early_stopping_rounds` in constructor or`set_params` instead.\n",
      "  UserWarning,\n"
     ]
    },
    {
     "name": "stdout",
     "output_type": "stream",
     "text": [
      "[10]\tvalidation_0-logloss:0.20648\n",
      "[11]\tvalidation_0-logloss:0.20305\n",
      "[12]\tvalidation_0-logloss:0.20084\n",
      "[13]\tvalidation_0-logloss:0.19889\n",
      "[14]\tvalidation_0-logloss:0.19778\n",
      "[15]\tvalidation_0-logloss:0.19595\n",
      "[16]\tvalidation_0-logloss:0.19477\n",
      "[17]\tvalidation_0-logloss:0.19376\n",
      "[18]\tvalidation_0-logloss:0.19275\n",
      "[19]\tvalidation_0-logloss:0.19219\n",
      "[20]\tvalidation_0-logloss:0.19138\n",
      "[21]\tvalidation_0-logloss:0.19102\n",
      "[22]\tvalidation_0-logloss:0.19038\n",
      "[23]\tvalidation_0-logloss:0.18976\n",
      "[24]\tvalidation_0-logloss:0.18996\n",
      "[25]\tvalidation_0-logloss:0.18949\n",
      "[26]\tvalidation_0-logloss:0.18916\n",
      "[27]\tvalidation_0-logloss:0.18873\n",
      "[28]\tvalidation_0-logloss:0.18855\n",
      "[29]\tvalidation_0-logloss:0.18852\n",
      "[30]\tvalidation_0-logloss:0.18860\n",
      "[31]\tvalidation_0-logloss:0.18888\n",
      "[32]\tvalidation_0-logloss:0.18880\n",
      "[33]\tvalidation_0-logloss:0.18908\n",
      "[34]\tvalidation_0-logloss:0.18909\n",
      "[35]\tvalidation_0-logloss:0.18901\n",
      "[36]\tvalidation_0-logloss:0.18907\n",
      "[37]\tvalidation_0-logloss:0.18810\n",
      "[38]\tvalidation_0-logloss:0.18812\n",
      "[39]\tvalidation_0-logloss:0.18806\n",
      "[40]\tvalidation_0-logloss:0.18833\n",
      "[41]\tvalidation_0-logloss:0.18864\n",
      "[42]\tvalidation_0-logloss:0.18881\n",
      "[43]\tvalidation_0-logloss:0.18907\n",
      "[44]\tvalidation_0-logloss:0.18902\n",
      "[45]\tvalidation_0-logloss:0.18926\n",
      "[46]\tvalidation_0-logloss:0.18925\n",
      "[47]\tvalidation_0-logloss:0.18906\n",
      "[48]\tvalidation_0-logloss:0.18919\n"
     ]
    },
    {
     "data": {
      "text/plain": [
       "XGBClassifier(base_score=0.5, booster='gbtree', callbacks=None,\n",
       "              colsample_bylevel=1, colsample_bynode=1, colsample_bytree=1,\n",
       "              early_stopping_rounds=None, enable_categorical=False,\n",
       "              eval_metric=None, gamma=0, gpu_id=-1, grow_policy='depthwise',\n",
       "              importance_type=None, interaction_constraints='',\n",
       "              learning_rate=0.300000012, max_bin=256, max_cat_to_onehot=4,\n",
       "              max_delta_step=0, max_depth=6, max_leaves=0, min_child_weight=1,\n",
       "              missing=nan, monotone_constraints='()', n_estimators=100,\n",
       "              n_jobs=0, num_parallel_tree=1, objective='binary:logistic',\n",
       "              predictor='auto', random_state=0, reg_alpha=0, ...)"
      ]
     },
     "execution_count": 380,
     "metadata": {},
     "output_type": "execute_result"
    }
   ],
   "source": [
    "clssifier_3 = xgb.XGBClassifier(objective='binary:logistic')\n",
    "clssifier_3.fit(X_train,y_train,\n",
    "               verbose= True,\n",
    "               early_stopping_rounds=10,\n",
    "               eval_metric='logloss',\n",
    "               eval_set=[(X_test,y_test)])"
   ]
  },
  {
   "cell_type": "code",
   "execution_count": 381,
   "metadata": {},
   "outputs": [
    {
     "name": "stdout",
     "output_type": "stream",
     "text": [
      "Confusion_matrix: [[1977   21]\n",
      " [ 148  252]]\n",
      "f1_score: 0.7488855869242198\n",
      "precision_score: 0.7488855869242198\n",
      "recall_score: 0.7488855869242198\n",
      "Accuracy: 0.9295246038365305\n",
      "roc_auc_score: 0.8097447447447447\n"
     ]
    }
   ],
   "source": [
    "# making prediction on the test dataset\n",
    "y_pred_2=clssifier_3.predict(X_test)\n",
    "\n",
    "# checking the metric scores\n",
    "print(f\"Confusion_matrix: {confusion_matrix(y_test,y_pred_2)}\")\n",
    "print(f\"f1_score: {f1_score(y_test,y_pred_2)}\")\n",
    "print(f\"precision_score: {f1_score(y_test,y_pred_2)}\")\n",
    "print(f\"recall_score: {f1_score(y_test,y_pred_2)}\")\n",
    "print(f\"Accuracy: {accuracy_score(y_test,y_pred_2)}\")\n",
    "print(f\"roc_auc_score: {roc_auc_score(y_test,y_pred_2)}\")"
   ]
  },
  {
   "cell_type": "code",
   "execution_count": 123,
   "metadata": {},
   "outputs": [],
   "source": [
    "params_grid ={\n",
    "    'max_depth' : [3,5,8,10,12],\n",
    "    'learning_rate' : [0.05,0.1,0.2,0.5,1],\n",
    "    'gamma' : [0,0.25,1.0],\n",
    "    'reg_lambda' : [0,1.0,10,20,50,100],\n",
    "    'scale_pos_weight' : [1,3,5,10]\n",
    "    \n",
    "}"
   ]
  },
  {
   "cell_type": "code",
   "execution_count": 124,
   "metadata": {},
   "outputs": [],
   "source": [
    "classifier_3_ = xgb.XGBClassifier(objective='binary:logistic',subsample=0.9)"
   ]
  },
  {
   "cell_type": "code",
   "execution_count": 544,
   "metadata": {},
   "outputs": [],
   "source": [
    "grid_cv_xgb = GridSearchCV(classifier_3_,param_grid=params_grid,cv=3,return_train_score=True,scoring='f1')\n",
    "\n",
    "grid_cv_xgb.fit(X_train,y_train)"
   ]
  },
  {
   "cell_type": "code",
   "execution_count": null,
   "metadata": {},
   "outputs": [],
   "source": [
    "grid_cv_xgb.best_params_"
   ]
  },
  {
   "cell_type": "code",
   "execution_count": null,
   "metadata": {},
   "outputs": [],
   "source": [
    "print(1)"
   ]
  },
  {
   "cell_type": "code",
   "execution_count": null,
   "metadata": {},
   "outputs": [],
   "source": []
  },
  {
   "cell_type": "code",
   "execution_count": 386,
   "metadata": {},
   "outputs": [
    {
     "name": "stdout",
     "output_type": "stream",
     "text": [
      "[0]\tvalidation_0-aucpr:0.72074\n",
      "[1]\tvalidation_0-aucpr:0.80027\n",
      "[2]\tvalidation_0-aucpr:0.80449\n",
      "[3]\tvalidation_0-aucpr:0.81181\n",
      "[4]\tvalidation_0-aucpr:0.82308\n",
      "[5]\tvalidation_0-aucpr:0.81256\n",
      "[6]\tvalidation_0-aucpr:0.82913\n",
      "[7]\tvalidation_0-aucpr:0.82937\n",
      "[8]\tvalidation_0-aucpr:0.81671\n",
      "[9]\tvalidation_0-aucpr:0.83253\n",
      "[10]\tvalidation_0-aucpr:0.83310\n",
      "[11]\tvalidation_0-aucpr:0.83489\n"
     ]
    },
    {
     "name": "stderr",
     "output_type": "stream",
     "text": [
      "/home/FRACTAL/bhupesh.hada/anaconda3/lib/python3.7/site-packages/xgboost/sklearn.py:797: UserWarning: `eval_metric` in `fit` method is deprecated for better compatibility with scikit-learn, use `eval_metric` in constructor or`set_params` instead.\n",
      "  UserWarning,\n",
      "/home/FRACTAL/bhupesh.hada/anaconda3/lib/python3.7/site-packages/xgboost/sklearn.py:797: UserWarning: `early_stopping_rounds` in `fit` method is deprecated for better compatibility with scikit-learn, use `early_stopping_rounds` in constructor or`set_params` instead.\n",
      "  UserWarning,\n"
     ]
    },
    {
     "name": "stdout",
     "output_type": "stream",
     "text": [
      "[12]\tvalidation_0-aucpr:0.83269\n",
      "[13]\tvalidation_0-aucpr:0.83632\n",
      "[14]\tvalidation_0-aucpr:0.83891\n",
      "[15]\tvalidation_0-aucpr:0.83660\n",
      "[16]\tvalidation_0-aucpr:0.83831\n",
      "[17]\tvalidation_0-aucpr:0.83812\n",
      "[18]\tvalidation_0-aucpr:0.83850\n",
      "[19]\tvalidation_0-aucpr:0.83829\n",
      "[20]\tvalidation_0-aucpr:0.83976\n",
      "[21]\tvalidation_0-aucpr:0.83962\n",
      "[22]\tvalidation_0-aucpr:0.83963\n",
      "[23]\tvalidation_0-aucpr:0.84493\n",
      "[24]\tvalidation_0-aucpr:0.84494\n",
      "[25]\tvalidation_0-aucpr:0.84724\n",
      "[26]\tvalidation_0-aucpr:0.84696\n",
      "[27]\tvalidation_0-aucpr:0.84685\n",
      "[28]\tvalidation_0-aucpr:0.84863\n",
      "[29]\tvalidation_0-aucpr:0.85044\n",
      "[30]\tvalidation_0-aucpr:0.85056\n",
      "[31]\tvalidation_0-aucpr:0.85040\n",
      "[32]\tvalidation_0-aucpr:0.85119\n",
      "[33]\tvalidation_0-aucpr:0.85069\n",
      "[34]\tvalidation_0-aucpr:0.85089\n",
      "[35]\tvalidation_0-aucpr:0.85152\n",
      "[36]\tvalidation_0-aucpr:0.85142\n",
      "[37]\tvalidation_0-aucpr:0.85192\n",
      "[38]\tvalidation_0-aucpr:0.85245\n",
      "[39]\tvalidation_0-aucpr:0.85518\n",
      "[40]\tvalidation_0-aucpr:0.85512\n",
      "[41]\tvalidation_0-aucpr:0.85528\n",
      "[42]\tvalidation_0-aucpr:0.85525\n",
      "[43]\tvalidation_0-aucpr:0.85662\n",
      "[44]\tvalidation_0-aucpr:0.85644\n",
      "[45]\tvalidation_0-aucpr:0.85633\n",
      "[46]\tvalidation_0-aucpr:0.85608\n",
      "[47]\tvalidation_0-aucpr:0.85636\n",
      "[48]\tvalidation_0-aucpr:0.85654\n",
      "[49]\tvalidation_0-aucpr:0.85688\n",
      "[50]\tvalidation_0-aucpr:0.85742\n",
      "[51]\tvalidation_0-aucpr:0.85717\n",
      "[52]\tvalidation_0-aucpr:0.85735\n",
      "[53]\tvalidation_0-aucpr:0.85715\n",
      "[54]\tvalidation_0-aucpr:0.85702\n",
      "[55]\tvalidation_0-aucpr:0.85694\n",
      "[56]\tvalidation_0-aucpr:0.85742\n",
      "[57]\tvalidation_0-aucpr:0.85763\n",
      "[58]\tvalidation_0-aucpr:0.85781\n",
      "[59]\tvalidation_0-aucpr:0.85814\n",
      "[60]\tvalidation_0-aucpr:0.85816\n",
      "[61]\tvalidation_0-aucpr:0.85813\n",
      "[62]\tvalidation_0-aucpr:0.85807\n",
      "[63]\tvalidation_0-aucpr:0.85835\n",
      "[64]\tvalidation_0-aucpr:0.85814\n",
      "[65]\tvalidation_0-aucpr:0.85852\n",
      "[66]\tvalidation_0-aucpr:0.85881\n",
      "[67]\tvalidation_0-aucpr:0.85884\n",
      "[68]\tvalidation_0-aucpr:0.85893\n",
      "[69]\tvalidation_0-aucpr:0.85819\n",
      "[70]\tvalidation_0-aucpr:0.85848\n",
      "[71]\tvalidation_0-aucpr:0.85807\n",
      "[72]\tvalidation_0-aucpr:0.85819\n",
      "[73]\tvalidation_0-aucpr:0.85861\n",
      "[74]\tvalidation_0-aucpr:0.85871\n",
      "[75]\tvalidation_0-aucpr:0.85880\n",
      "[76]\tvalidation_0-aucpr:0.85868\n",
      "[77]\tvalidation_0-aucpr:0.85899\n",
      "[78]\tvalidation_0-aucpr:0.85888\n",
      "[79]\tvalidation_0-aucpr:0.85902\n",
      "[80]\tvalidation_0-aucpr:0.85883\n",
      "[81]\tvalidation_0-aucpr:0.85847\n",
      "[82]\tvalidation_0-aucpr:0.85859\n",
      "[83]\tvalidation_0-aucpr:0.85861\n",
      "[84]\tvalidation_0-aucpr:0.85876\n",
      "[85]\tvalidation_0-aucpr:0.85798\n",
      "[86]\tvalidation_0-aucpr:0.85797\n",
      "[87]\tvalidation_0-aucpr:0.85802\n",
      "[88]\tvalidation_0-aucpr:0.85882\n",
      "[89]\tvalidation_0-aucpr:0.85895\n",
      "[90]\tvalidation_0-aucpr:0.85900\n",
      "[91]\tvalidation_0-aucpr:0.85920\n",
      "[92]\tvalidation_0-aucpr:0.85956\n",
      "[93]\tvalidation_0-aucpr:0.85953\n",
      "[94]\tvalidation_0-aucpr:0.85978\n",
      "[95]\tvalidation_0-aucpr:0.85981\n",
      "[96]\tvalidation_0-aucpr:0.85981\n",
      "[97]\tvalidation_0-aucpr:0.85967\n",
      "[98]\tvalidation_0-aucpr:0.85943\n",
      "[99]\tvalidation_0-aucpr:0.85949\n"
     ]
    },
    {
     "data": {
      "text/plain": [
       "XGBClassifier(base_score=0.5, booster='gbtree', callbacks=None,\n",
       "              colsample_bylevel=1, colsample_bynode=1, colsample_bytree=1,\n",
       "              early_stopping_rounds=None, enable_categorical=False,\n",
       "              eval_metric=None, gamma=0, gpu_id=-1, grow_policy='depthwise',\n",
       "              importance_type=None, interaction_constraints='',\n",
       "              learning_rate=0.1, max_bin=256, max_cat_to_onehot=4,\n",
       "              max_delta_step=0, max_depth=5, max_leaves=0, min_child_weight=1,\n",
       "              missing=nan, monotone_constraints='()', n_estimators=100,\n",
       "              n_jobs=0, num_parallel_tree=1, objective='binary:logistic',\n",
       "              predictor='auto', random_state=0, reg_alpha=0, ...)"
      ]
     },
     "execution_count": 386,
     "metadata": {},
     "output_type": "execute_result"
    }
   ],
   "source": [
    "clssifier_3 = xgb.XGBClassifier(objective='binary:logistic',\n",
    "                               n_estimators=100,\n",
    "                               learning_rate=0.1,\n",
    "                               max_depth=5,\n",
    "                               scale_pos_weight=4,\n",
    "                               )\n",
    "clssifier_3.fit(X_train,y_train,\n",
    "               verbose= True,\n",
    "               early_stopping_rounds=50,\n",
    "               eval_metric='aucpr',\n",
    "               eval_set=[(X_test,y_test)])"
   ]
  },
  {
   "cell_type": "code",
   "execution_count": 387,
   "metadata": {},
   "outputs": [
    {
     "name": "stdout",
     "output_type": "stream",
     "text": [
      "Confusion_matrix: [[1818  180]\n",
      " [  72  328]]\n",
      "f1_score: 0.7224669603524229\n",
      "precision_score: 0.7224669603524229\n",
      "recall_score: 0.7224669603524229\n",
      "Accuracy: 0.8949124270225187\n",
      "roc_auc_score: 0.8649549549549549\n"
     ]
    }
   ],
   "source": [
    "# making prediction on the test dataset\n",
    "y_pred_2=clssifier_3.predict(X_test)\n",
    "\n",
    "# checking the metric scores\n",
    "print(f\"Confusion_matrix: {confusion_matrix(y_test,y_pred_2)}\")\n",
    "print(f\"f1_score: {f1_score(y_test,y_pred_2)}\")\n",
    "print(f\"precision_score: {f1_score(y_test,y_pred_2)}\")\n",
    "print(f\"recall_score: {f1_score(y_test,y_pred_2)}\")\n",
    "print(f\"Accuracy: {accuracy_score(y_test,y_pred_2)}\")\n",
    "print(f\"roc_auc_score: {roc_auc_score(y_test,y_pred_2)}\")"
   ]
  },
  {
   "cell_type": "code",
   "execution_count": 388,
   "metadata": {},
   "outputs": [
    {
     "name": "stdout",
     "output_type": "stream",
     "text": [
      "Confusion_matrix: [[7339  653]\n",
      " [ 285 1313]]\n",
      "f1_score: 0.7368125701459035\n",
      "precision_score: 0.7368125701459035\n",
      "recall_score: 0.7368125701459035\n",
      "Accuracy: 0.9021897810218978\n",
      "roc_auc_score: 0.8699726791873225\n"
     ]
    }
   ],
   "source": [
    "# making prediction on the test dataset\n",
    "y_pred_2=clssifier_3.predict(X_train)\n",
    "\n",
    "# checking the metric scores\n",
    "print(f\"Confusion_matrix: {confusion_matrix(y_train,y_pred_2)}\")\n",
    "print(f\"f1_score: {f1_score(y_train,y_pred_2)}\")\n",
    "print(f\"precision_score: {f1_score(y_train,y_pred_2)}\")\n",
    "print(f\"recall_score: {f1_score(y_train,y_pred_2)}\")\n",
    "print(f\"Accuracy: {accuracy_score(y_train,y_pred_2)}\")\n",
    "print(f\"roc_auc_score: {roc_auc_score(y_train,y_pred_2)}\")"
   ]
  },
  {
   "cell_type": "code",
   "execution_count": null,
   "metadata": {},
   "outputs": [],
   "source": []
  },
  {
   "cell_type": "code",
   "execution_count": null,
   "metadata": {},
   "outputs": [],
   "source": []
  },
  {
   "cell_type": "code",
   "execution_count": null,
   "metadata": {},
   "outputs": [],
   "source": []
  },
  {
   "cell_type": "code",
   "execution_count": null,
   "metadata": {},
   "outputs": [],
   "source": []
  },
  {
   "cell_type": "code",
   "execution_count": 507,
   "metadata": {},
   "outputs": [],
   "source": [
    "importances = classifier.feature_importances_\n",
    "#\n",
    "# Sort the feature importance in descending order\n",
    "#\n",
    "sorted_indices = np.argsort(importances)[::-1]"
   ]
  },
  {
   "cell_type": "code",
   "execution_count": 508,
   "metadata": {},
   "outputs": [
    {
     "data": {
      "image/png": "[encoded data removed]",
      "text/plain": [
       "<Figure size 864x648 with 1 Axes>"
      ]
     },
     "metadata": {
      "needs_background": "light"
     },
     "output_type": "display_data"
    }
   ],
   "source": [
    "plt.figure(figsize=(12,9))\n",
    "plt.title('Feature Importance')\n",
    "plt.bar(range(X_train.shape[1]), importances[sorted_indices], align='center')\n",
    "plt.xticks(range(X_train.shape[1]), X.columns[sorted_indices], rotation=90)\n",
    "plt.tight_layout()\n",
    "plt.show()"
   ]
  },
  {
   "cell_type": "code",
   "execution_count": null,
   "metadata": {},
   "outputs": [],
   "source": [
    "['campaign_var_2_10','campaign_var_1_10','user_activity_var_7_2','user_activity_var_6_3','user_activity_var_1_3','user_activity_var_8_2']"
   ]
  },
  {
   "cell_type": "code",
   "execution_count": null,
   "metadata": {},
   "outputs": [],
   "source": []
  },
  {
   "cell_type": "markdown",
   "metadata": {},
   "source": [
    "# Preparing the test dataset"
   ]
  },
  {
   "cell_type": "code",
   "execution_count": 171,
   "metadata": {},
   "outputs": [],
   "source": [
    "# reading the test_dataset"
   ]
  },
  {
   "cell_type": "code",
   "execution_count": 75,
   "metadata": {},
   "outputs": [],
   "source": [
    "df_test = pd.read_csv('test_Wf7sxXF.csv')"
   ]
  },
  {
   "cell_type": "code",
   "execution_count": 76,
   "metadata": {},
   "outputs": [
    {
     "data": {
      "text/plain": [
       "id                         0\n",
       "created_at                 0\n",
       "campaign_var_1             0\n",
       "campaign_var_2             0\n",
       "products_purchased      8136\n",
       "signup_date             6649\n",
       "user_activity_var_1        0\n",
       "user_activity_var_2        0\n",
       "user_activity_var_3        0\n",
       "user_activity_var_4        0\n",
       "user_activity_var_5        0\n",
       "user_activity_var_6        0\n",
       "user_activity_var_7        0\n",
       "user_activity_var_8        0\n",
       "user_activity_var_9        0\n",
       "user_activity_var_10       0\n",
       "user_activity_var_11       0\n",
       "user_activity_var_12       0\n",
       "dtype: int64"
      ]
     },
     "execution_count": 76,
     "metadata": {},
     "output_type": "execute_result"
    }
   ],
   "source": [
    "df_test.isnull().sum()"
   ]
  },
  {
   "cell_type": "code",
   "execution_count": 77,
   "metadata": {},
   "outputs": [],
   "source": [
    "df_test['products_purchased']=df_test.products_purchased.fillna(0.0)"
   ]
  },
  {
   "cell_type": "code",
   "execution_count": 78,
   "metadata": {},
   "outputs": [],
   "source": [
    "#creating a new column 'has_signup' which is 1 if signup_date is not null and 0 if signup date is null\n",
    "df_test['has_signup']=1\n",
    "df_test.loc[df['signup_date'].isnull(),'has_signup']=0"
   ]
  },
  {
   "cell_type": "code",
   "execution_count": 79,
   "metadata": {},
   "outputs": [],
   "source": [
    "# converting date columns into datetime\n",
    "df_test['created_at']=pd.to_datetime(df_test['created_at'])\n",
    "\n",
    "df_test['signup_date'] = pd.to_datetime(df_test['signup_date'])"
   ]
  },
  {
   "cell_type": "code",
   "execution_count": 80,
   "metadata": {},
   "outputs": [],
   "source": [
    "# based on the above percentage(of y=1 in each ccategory of campaign_var_1) we can club some of the categories as the distribution of these categries is quite similar\n",
    "\n",
    "# clubing category 2&3\n",
    "df_test['campaign_var_1']= df_test['campaign_var_1'].apply(lambda x : 2 if (x==2) | (x==3) else x)\n",
    "\n",
    "#clubing category 4 & 5\n",
    "df_test['campaign_var_1']= df_test['campaign_var_1'].apply(lambda x : 3 if (x==4) | (x==5) else x)\n",
    "\n",
    "#clubing category 6& 7\n",
    "df_test['campaign_var_1']= df_test['campaign_var_1'].apply(lambda x : 4 if (x==6) | (x==7) else x)\n",
    "\n",
    "#renaming category 8\n",
    "df_test['campaign_var_1']= df_test['campaign_var_1'].apply(lambda x : 5 if (x==8) else x)\n",
    "\n",
    "#renaming category 9\n",
    "df_test['campaign_var_1']= df_test['campaign_var_1'].apply(lambda x : 6 if (x==9) else x)\n",
    "\n",
    "#clubing category 10 & 11\n",
    "df_test['campaign_var_1']= df_test['campaign_var_1'].apply(lambda x : 7 if (x==10) | (x==11) else x)\n",
    "\n",
    "#clubing category 12 & 13\n",
    "df_test['campaign_var_1']= df_test['campaign_var_1'].apply(lambda x : 8 if (x==12) | (x==13) else x)\n",
    "\n",
    "#clubing category 14 & 15\n",
    "df_test['campaign_var_1']= df_test['campaign_var_1'].apply(lambda x : 9 if (x==14) | (x==15) else x)\n",
    "\n",
    "#renaming category 16\n",
    "df_test['campaign_var_1']= df_test['campaign_var_1'].apply(lambda x : 10 if (x==16) else x)\n"
   ]
  },
  {
   "cell_type": "code",
   "execution_count": 81,
   "metadata": {},
   "outputs": [],
   "source": [
    "# based on the above percentage(of y=1 in each ccategory of campaign_var_2) we can club some of the categories as the distribution of these categries is quite similar\n",
    "\n",
    "# clubing category 2&3\n",
    "df_test['campaign_var_2']= df_test['campaign_var_2'].apply(lambda x : 2 if (x==2) | (x==3) else x)\n",
    "\n",
    "#clubing category 4 & 5\n",
    "df_test['campaign_var_2']= df_test['campaign_var_2'].apply(lambda x : 3 if (x==4) | (x==5) else x)\n",
    "\n",
    "#renaming category 6\n",
    "df_test['campaign_var_2']= df_test['campaign_var_2'].apply(lambda x : 4 if (x==6) else x)\n",
    "\n",
    "#renaming category 7\n",
    "df_test['campaign_var_2']= df_test['campaign_var_2'].apply(lambda x : 5 if (x==7) else x)\n",
    "\n",
    "#renaming category 8\n",
    "df_test['campaign_var_2']= df_test['campaign_var_2'].apply(lambda x : 6 if (x==8) else x)\n",
    "\n",
    "#renaming category 9\n",
    "df_test['campaign_var_2']= df_test['campaign_var_2'].apply(lambda x : 7 if (x==9) else x)\n",
    "\n",
    "#renaming category 10\n",
    "df_test['campaign_var_2']= df_test['campaign_var_2'].apply(lambda x : 8 if (x==10) else x)\n",
    "\n",
    "#clubing category 11 & 12 & 13\n",
    "df_test['campaign_var_2']= df_test['campaign_var_2'].apply(lambda x : 9 if (x==11) | (x==12) | (x==13) else x)\n",
    "\n",
    "#clubing category 14 & 15\n",
    "df_test['campaign_var_2']= df_test['campaign_var_2'].apply(lambda x : 10 if (x==14) | (x==15) else x)\n"
   ]
  },
  {
   "cell_type": "code",
   "execution_count": 82,
   "metadata": {},
   "outputs": [],
   "source": [
    "# creating a date_diff column which indicates the time period between sign up and the lead drop\n",
    "df_test['date_diff']=df_test['created_at']-df_test['signup_date']"
   ]
  },
  {
   "cell_type": "code",
   "execution_count": 83,
   "metadata": {},
   "outputs": [],
   "source": [
    "df_test['date_diff']=df_test['date_diff'].astype(str)\n",
    "df_test['date_diff']=df_test['date_diff'].apply(lambda x: x.split(\" \")[0])"
   ]
  },
  {
   "cell_type": "code",
   "execution_count": 84,
   "metadata": {},
   "outputs": [],
   "source": [
    "df_test['date_diff'].replace({'NaT': '-1000'},inplace=True)\n",
    "df_test['date_diff']=df_test['date_diff'].astype(int)"
   ]
  },
  {
   "cell_type": "code",
   "execution_count": 85,
   "metadata": {},
   "outputs": [
    {
     "data": {
      "text/plain": [
       "<matplotlib.axes._subplots.AxesSubplot at 0x7fc5f973d150>"
      ]
     },
     "execution_count": 85,
     "metadata": {},
     "output_type": "execute_result"
    },
    {
     "data": {
      "image/png": "[encoded data removed]",
      "text/plain": [
       "<Figure size 432x288 with 1 Axes>"
      ]
     },
     "metadata": {
      "needs_background": "light"
     },
     "output_type": "display_data"
    }
   ],
   "source": [
    "sns.countplot(data=df_test,x='user_activity_var_9')"
   ]
  },
  {
   "cell_type": "code",
   "execution_count": 86,
   "metadata": {},
   "outputs": [
    {
     "data": {
      "text/plain": [
       "0    13074\n",
       "1      109\n",
       "2        1\n",
       "Name: user_activity_var_9, dtype: int64"
      ]
     },
     "execution_count": 86,
     "metadata": {},
     "output_type": "execute_result"
    }
   ],
   "source": [
    "df_test['user_activity_var_9'].value_counts()"
   ]
  },
  {
   "cell_type": "code",
   "execution_count": 87,
   "metadata": {},
   "outputs": [],
   "source": [
    "df_test['user_activity_var_9']=df_test['user_activity_var_9'].apply(lambda x : 1 if x in [1,2] else x)"
   ]
  },
  {
   "cell_type": "code",
   "execution_count": 88,
   "metadata": {},
   "outputs": [],
   "source": [
    "# clubbing these 3 categories as they have the same distribution w.r.t dependent variable\n",
    "df_test['user_activity_var_11']=df_test['user_activity_var_11'].apply(lambda x : 2 if x in [2,3,4] else x)"
   ]
  },
  {
   "cell_type": "code",
   "execution_count": 89,
   "metadata": {},
   "outputs": [],
   "source": [
    "#datatype change for the given columns\n",
    "cols=['campaign_var_1', 'campaign_var_2',\n",
    "       'products_purchased', 'user_activity_var_1',\n",
    "       'user_activity_var_2', 'user_activity_var_3', 'user_activity_var_4',\n",
    "       'user_activity_var_5', 'user_activity_var_6', 'user_activity_var_7',\n",
    "       'user_activity_var_8', 'user_activity_var_9', 'user_activity_var_10',\n",
    "       'user_activity_var_11', 'user_activity_var_12']\n",
    "\n",
    "\n",
    "for i in cols:\n",
    "    df_test[i]=df_test[i].astype(str)"
   ]
  },
  {
   "cell_type": "code",
   "execution_count": 529,
   "metadata": {},
   "outputs": [],
   "source": [
    "# df_test_2 = df_test.drop(columns=['campaign_var_2_10','campaign_var_1_10','user_activity_var_7_2','user_activity_var_6_3','user_activity_var_1_3','user_activity_var_8_2'],axis=1)"
   ]
  },
  {
   "cell_type": "code",
   "execution_count": 90,
   "metadata": {},
   "outputs": [],
   "source": [
    "# encoding the categorical variable\n",
    "df_test_1 = pd.get_dummies(df_test,columns=cols,drop_first=True)"
   ]
  },
  {
   "cell_type": "code",
   "execution_count": 91,
   "metadata": {},
   "outputs": [],
   "source": [
    "user_id=df_test_1['id'].values"
   ]
  },
  {
   "cell_type": "code",
   "execution_count": 92,
   "metadata": {},
   "outputs": [],
   "source": [
    "# dropping the id and dates columns\n",
    "df_test_1.drop(columns=['id','created_at','signup_date'],axis=1,inplace=True)"
   ]
  },
  {
   "cell_type": "code",
   "execution_count": 93,
   "metadata": {},
   "outputs": [],
   "source": [
    "df_test_1.drop(columns=['date_diff'],axis=1,inplace=True)"
   ]
  },
  {
   "cell_type": "code",
   "execution_count": 221,
   "metadata": {},
   "outputs": [
    {
     "data": {
      "text/plain": [
       "{'date_diff', 'user_activity_var_9_2'}"
      ]
     },
     "execution_count": 221,
     "metadata": {},
     "output_type": "execute_result"
    }
   ],
   "source": [
    "set(df_test_1.columns)-set(X.columns)"
   ]
  },
  {
   "cell_type": "code",
   "execution_count": 244,
   "metadata": {},
   "outputs": [
    {
     "data": {
      "text/plain": [
       "(13184, 43)"
      ]
     },
     "execution_count": 244,
     "metadata": {},
     "output_type": "execute_result"
    }
   ],
   "source": [
    "df_test_1.shape"
   ]
  },
  {
   "cell_type": "code",
   "execution_count": 245,
   "metadata": {},
   "outputs": [
    {
     "data": {
      "text/plain": [
       "13184"
      ]
     },
     "execution_count": 245,
     "metadata": {},
     "output_type": "execute_result"
    }
   ],
   "source": [
    "len(y_test_pred)"
   ]
  },
  {
   "cell_type": "code",
   "execution_count": 540,
   "metadata": {},
   "outputs": [],
   "source": [
    "# making prediction on the test dataset\n",
    "y_test_pred=classifier.predict(df_test_1)\n",
    "\n",
    "# # checking the metric scores\n",
    "# print(f\"Confusion_matrix: {confusion_matrix(y_test,y_pred_2)}\")\n",
    "# print(f\"f1_score: {f1_score(y_test,y_pred_2)}\")\n",
    "# print(f\"Accuracy: {accuracy_score(y_test,y_pred_2)}\")\n",
    "# print(f\"roc_auc_score: {roc_auc_score(y_test,y_pred_2)}\")"
   ]
  },
  {
   "cell_type": "code",
   "execution_count": 541,
   "metadata": {},
   "outputs": [],
   "source": [
    "final_output = pd.DataFrame({'id':user_id,'buy':y_test_pred})"
   ]
  },
  {
   "cell_type": "code",
   "execution_count": 542,
   "metadata": {},
   "outputs": [
    {
     "data": {
      "text/plain": [
       "0    12863\n",
       "1      321\n",
       "Name: buy, dtype: int64"
      ]
     },
     "execution_count": 542,
     "metadata": {},
     "output_type": "execute_result"
    }
   ],
   "source": [
    "final_output['buy'].value_counts()"
   ]
  },
  {
   "cell_type": "code",
   "execution_count": 543,
   "metadata": {},
   "outputs": [],
   "source": [
    "final_output.to_csv('results.csv',index=False)"
   ]
  },
  {
   "cell_type": "code",
   "execution_count": null,
   "metadata": {},
   "outputs": [],
   "source": []
  }
 ],
 "metadata": {
  "kernelspec": {
   "display_name": "Python 3",
   "language": "python",
   "name": "python3"
  },
  "language_info": {
   "codemirror_mode": {
    "name": "ipython",
    "version": 3
   },
   "file_extension": ".py",
   "mimetype": "text/x-python",
   "name": "python",
   "nbconvert_exporter": "python",
   "pygments_lexer": "ipython3",
   "version": "3.7.6"
  }
 },
 "nbformat": 4,
 "nbformat_minor": 4
}
